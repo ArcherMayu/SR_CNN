{
  "nbformat": 4,
  "nbformat_minor": 0,
  "metadata": {
    "colab": {
      "provenance": []
    },
    "kernelspec": {
      "name": "python3",
      "display_name": "Python 3"
    },
    "language_info": {
      "name": "python"
    },
    "accelerator": "GPU"
  },
  "cells": [
    {
      "cell_type": "markdown",
      "source": [],
      "metadata": {
        "id": "GMUpog4ko1mE"
      }
    },
    {
      "cell_type": "markdown",
      "metadata": {
        "id": "G0gLTHr_2Kno"
      },
      "source": [
        "# **Requirements install**\n",
        "\n",
        "\n"
      ]
    },
    {
      "cell_type": "code",
      "metadata": {
        "colab": {
          "base_uri": "https://localhost:8080/"
        },
        "id": "5_mZ0GkC7J3v",
        "outputId": "27054a45-c686-4ebd-90b7-cc0f5c2ea8bf"
      },
      "source": [
        "!pip install nibabel tqdm scikit-image"
      ],
      "execution_count": null,
      "outputs": [
        {
          "output_type": "stream",
          "name": "stdout",
          "text": [
            "Requirement already satisfied: nibabel in /usr/local/lib/python3.11/dist-packages (5.3.2)\n",
            "Requirement already satisfied: tqdm in /usr/local/lib/python3.11/dist-packages (4.67.1)\n",
            "Requirement already satisfied: scikit-image in /usr/local/lib/python3.11/dist-packages (0.25.2)\n",
            "Requirement already satisfied: importlib-resources>=5.12 in /usr/local/lib/python3.11/dist-packages (from nibabel) (6.5.2)\n",
            "Requirement already satisfied: numpy>=1.22 in /usr/local/lib/python3.11/dist-packages (from nibabel) (2.0.2)\n",
            "Requirement already satisfied: packaging>=20 in /usr/local/lib/python3.11/dist-packages (from nibabel) (24.2)\n",
            "Requirement already satisfied: typing-extensions>=4.6 in /usr/local/lib/python3.11/dist-packages (from nibabel) (4.12.2)\n",
            "Requirement already satisfied: scipy>=1.11.4 in /usr/local/lib/python3.11/dist-packages (from scikit-image) (1.14.1)\n",
            "Requirement already satisfied: networkx>=3.0 in /usr/local/lib/python3.11/dist-packages (from scikit-image) (3.4.2)\n",
            "Requirement already satisfied: pillow>=10.1 in /usr/local/lib/python3.11/dist-packages (from scikit-image) (11.1.0)\n",
            "Requirement already satisfied: imageio!=2.35.0,>=2.33 in /usr/local/lib/python3.11/dist-packages (from scikit-image) (2.37.0)\n",
            "Requirement already satisfied: tifffile>=2022.8.12 in /usr/local/lib/python3.11/dist-packages (from scikit-image) (2025.3.13)\n",
            "Requirement already satisfied: lazy-loader>=0.4 in /usr/local/lib/python3.11/dist-packages (from scikit-image) (0.4)\n"
          ]
        }
      ]
    },
    {
      "cell_type": "markdown",
      "metadata": {
        "id": "8WBIY9SE2V-d"
      },
      "source": [
        "# **Import package**"
      ]
    },
    {
      "cell_type": "code",
      "metadata": {
        "id": "AL_3r5Rx7q06"
      },
      "source": [
        "import os\n",
        "import sys\n",
        "import random\n",
        "import numpy as np\n",
        "import nibabel as nib\n",
        "import matplotlib.pyplot as plt\n",
        "\n",
        "from tqdm import tqdm\n",
        "from skimage.metrics import peak_signal_noise_ratio, structural_similarity\n",
        "from scipy.ndimage import zoom\n",
        "\n",
        "import torch\n",
        "from torch import nn, optim\n",
        "from torch.utils.data import DataLoader\n",
        "from torchvision.transforms import ToTensor\n",
        "from torch.autograd import Variable"
      ],
      "execution_count": null,
      "outputs": []
    },
    {
      "cell_type": "markdown",
      "metadata": {
        "id": "uhZjr1PI2Zfe"
      },
      "source": [
        "# **Drive mount**"
      ]
    },
    {
      "cell_type": "code",
      "metadata": {
        "colab": {
          "base_uri": "https://localhost:8080/"
        },
        "id": "kM5E623-8uVJ",
        "outputId": "3fe2e547-dfa5-40bf-d2f0-d4cc279dc785"
      },
      "source": [
        "from google.colab import drive # import drive from google colab\n",
        "\n",
        "ROOT = \"/content/drive\"     # default location for the drive\n",
        "print(ROOT)                 # print content of ROOT (Optional)\n",
        "\n",
        "drive.mount(ROOT)           # we mount the google drive at /content/drive\n",
        "\n",
        "# import join used to join ROOT path and MY_GOOGLE_DRIVE_PATH\n",
        "from os.path import join\n",
        "\n",
        "# path to your project on Google Drive\n",
        "MY_GOOGLE_DRIVE_PATH = '/content/drive/My Drive/Colab Notebooks'\n",
        "\n",
        "print(\"MY_GOOGLE_DRIVE_PATH: \", MY_GOOGLE_DRIVE_PATH)\n",
        "# In case we haven't created the folder already; we will create a folder in the project path\n",
        "%cd \"{MY_GOOGLE_DRIVE_PATH}\""
      ],
      "execution_count": null,
      "outputs": [
        {
          "output_type": "stream",
          "name": "stdout",
          "text": [
            "/content/drive\n",
            "Mounted at /content/drive\n",
            "MY_GOOGLE_DRIVE_PATH:  /content/drive/My Drive/Colab Notebooks\n",
            "/content/drive/My Drive/Colab Notebooks\n"
          ]
        }
      ]
    },
    {
      "cell_type": "markdown",
      "metadata": {
        "id": "rDcbq1gm2fj-"
      },
      "source": [
        "# **Model Definition**"
      ]
    },
    {
      "cell_type": "code",
      "metadata": {
        "id": "Fb01pvfKhBug"
      },
      "source": [
        "class SRCNN(nn.Module):\n",
        "    def __init__(self):\n",
        "        super(SRCNN, self).__init__()\n",
        "        self.layers = nn.Sequential(\n",
        "            nn.Conv2d(1, 64, 9, padding=4),\n",
        "            nn.ReLU(),\n",
        "            nn.Conv2d(64, 32, 1),\n",
        "            nn.ReLU(),\n",
        "            nn.Conv2d(32, 1, 5, padding=2)\n",
        "        )\n",
        "\n",
        "    def forward(self, x):\n",
        "        return self.layers(x)"
      ],
      "execution_count": null,
      "outputs": []
    },
    {
      "cell_type": "markdown",
      "metadata": {
        "id": "bDbdaEO-2kle"
      },
      "source": [
        "# **Image processing**"
      ]
    },
    {
      "cell_type": "code",
      "metadata": {
        "id": "njZk4ctvwW2O"
      },
      "source": [
        "def preprocessing(image_name_raw):\n",
        "    raw_image = nib.load(image_name_raw)\n",
        "    raw_array = np.array(raw_image.get_fdata(), dtype=np.float32)\n",
        "    clip_value = np.sort(raw_array.ravel())[int(np.prod(raw_array.shape) * 0.999)]\n",
        "    clipped_image = np.clip(raw_array, 0, clip_value)\n",
        "\n",
        "    H, W, D = clipped_image.shape\n",
        "    cropped_image = clipped_image[:H - H%3, :W - W%3, : D - D%3]\n",
        "    image = cropped_image / cropped_image.max()\n",
        "\n",
        "    return image"
      ],
      "execution_count": null,
      "outputs": []
    },
    {
      "cell_type": "code",
      "metadata": {
        "id": "ULn5BYiZwO3-"
      },
      "source": [
        "def get_lr(image):\n",
        "    downscaled_lr = zoom(image, 1/3.0, order=2, prefilter=False)\n",
        "    lr = np.clip(zoom(downscaled_lr, 3, order=2, prefilter=False), 0, image.max())\n",
        "    return lr"
      ],
      "execution_count": null,
      "outputs": []
    },
    {
      "cell_type": "markdown",
      "metadata": {
        "id": "1nFWGhbE2ram"
      },
      "source": [
        "# **DataLoader implementation**"
      ]
    },
    {
      "cell_type": "code",
      "metadata": {
        "id": "zqkS9PJZhB_Y"
      },
      "source": [
        "class BrainDataset(DataLoader):\n",
        "    def __init__(self):\n",
        "        self.dataset_dir = os.path.join(MY_GOOGLE_DRIVE_PATH, 'srcnn', 'train_data')\n",
        "        print(self.dataset_dir)\n",
        "        self.files_list = os.listdir(os.path.join(MY_GOOGLE_DRIVE_PATH, 'srcnn', 'train_data'))\n",
        "        self.image_hr_list = []\n",
        "        self.image_lr_list = []\n",
        "\n",
        "        for file_name in tqdm(self.files_list):\n",
        "            image_name_raw = os.path.join(self.dataset_dir, file_name)\n",
        "            image = preprocessing(image_name_raw)\n",
        "            H, W, D = image.shape\n",
        "\n",
        "            for i in range(H):\n",
        "                if np.any(image[i]):\n",
        "                    lr = get_lr(image[i])\n",
        "                    self.image_hr_list.append(image[i, np.newaxis, :, :])\n",
        "                    self.image_lr_list.append(lr[np.newaxis, :, :])\n",
        "\n",
        "\n",
        "    def __getitem__(self, index):\n",
        "        return self.image_lr_list[index], self.image_hr_list[index]\n",
        "\n",
        "    def __len__(self):\n",
        "        return len(self.image_hr_list)"
      ],
      "execution_count": null,
      "outputs": []
    },
    {
      "cell_type": "markdown",
      "metadata": {
        "id": "qLdgbCSn2zwN"
      },
      "source": [
        "# **Model training**\n",
        "## Dataset path setting"
      ]
    },
    {
      "cell_type": "code",
      "metadata": {
        "colab": {
          "base_uri": "https://localhost:8080/"
        },
        "id": "llKotb3LhCBS",
        "outputId": "c84632d3-b876-44dc-8fa0-28fbaa6859c5"
      },
      "source": [
        "dataset_dir = os.path.join(MY_GOOGLE_DRIVE_PATH, 'srcnn', 'train_data')\n",
        "print(dataset_dir)\n",
        "print(os.listdir(dataset_dir))\n"
      ],
      "execution_count": null,
      "outputs": [
        {
          "output_type": "stream",
          "name": "stdout",
          "text": [
            "/content/drive/My Drive/Colab Notebooks/srcnn/train_data\n",
            "['ADNI_005_S_0929_MR_MPR__GradWarp__B1_Correction__N3__Scaled_Br_20070923124929945_S19669_I74609.nii', 'ADNI_005_S_1341_MR_MPR__GradWarp__B1_Correction__N3__Scaled_Br_20070717180348670_S27673_I60417.nii', 'ADNI_005_S_1341_MR_MPR__GradWarp__B1_Correction__N3__Scaled_Br_20071027122134721_S40875_I78709.nii', 'ADNI_005_S_1341_MR_MPR__GradWarp__B1_Correction__N3__Scaled_Br_20090701135215664_S65452_I147406.nii', 'ADNI_006_S_0547_MR_MPR__GradWarp__B1_Correction__N3__Scaled_Br_20070727172259762_S27503_I62561.nii', 'ADNI_006_S_0547_MR_MPR__GradWarp__B1_Correction__N3__Scaled_Br_20070813134157717_S16033_I67315.nii', 'ADNI_006_S_0547_MR_MPR__GradWarp__B1_Correction__N3__Scaled_Br_20081024153607512_S56401_I123594.nii']\n"
          ]
        }
      ]
    },
    {
      "cell_type": "markdown",
      "metadata": {
        "id": "hfkvpjjh29bA"
      },
      "source": [
        "## Device setting"
      ]
    },
    {
      "cell_type": "code",
      "metadata": {
        "colab": {
          "base_uri": "https://localhost:8080/"
        },
        "id": "qBLxmbvnhBHJ",
        "outputId": "3dfd14ad-6ad2-4b46-bb46-817c208c3189"
      },
      "source": [
        "os.environ['CUDA_VISIBLE_DEVICES'] = '0'\n",
        "device = torch.device('cuda' if torch.cuda.is_available() else 'cpu')\n",
        "print('Device: {}'.format(device))"
      ],
      "execution_count": null,
      "outputs": [
        {
          "output_type": "stream",
          "name": "stdout",
          "text": [
            "Device: cuda\n"
          ]
        }
      ]
    },
    {
      "cell_type": "markdown",
      "metadata": {
        "id": "eIenaMZe3FZd"
      },
      "source": [
        "## Seed, batch size"
      ]
    },
    {
      "cell_type": "code",
      "metadata": {
        "id": "zlyADEFCmy9R"
      },
      "source": [
        "torch.manual_seed(1234)\n",
        "random.seed(1234)\n",
        "np.random.seed(1234)"
      ],
      "execution_count": null,
      "outputs": []
    },
    {
      "cell_type": "code",
      "metadata": {
        "id": "52ZK6spCm74h"
      },
      "source": [
        "BATCH_SIZE = 16"
      ],
      "execution_count": null,
      "outputs": []
    },
    {
      "cell_type": "markdown",
      "metadata": {
        "id": "X5gPjD893KT_"
      },
      "source": [
        "##Dataset loader"
      ]
    },
    {
      "cell_type": "code",
      "metadata": {
        "colab": {
          "base_uri": "https://localhost:8080/"
        },
        "id": "DmuFO-rSm2FY",
        "outputId": "03b11d40-be68-4372-9efe-aabbcd5aa46b"
      },
      "source": [
        "dataset = BrainDataset()\n",
        "dataloader = DataLoader(dataset=dataset, batch_size=BATCH_SIZE, shuffle=True)"
      ],
      "execution_count": null,
      "outputs": [
        {
          "output_type": "stream",
          "name": "stdout",
          "text": [
            "/content/drive/My Drive/Colab Notebooks/srcnn/train_data\n"
          ]
        },
        {
          "output_type": "stream",
          "name": "stderr",
          "text": [
            "100%|██████████| 9/9 [00:32<00:00,  3.58s/it]\n"
          ]
        }
      ]
    },
    {
      "cell_type": "markdown",
      "metadata": {
        "id": "9PTPl2EZ3XMe"
      },
      "source": [
        "## Get model"
      ]
    },
    {
      "cell_type": "code",
      "metadata": {
        "colab": {
          "base_uri": "https://localhost:8080/"
        },
        "id": "qrufDLOpnj0i",
        "outputId": "f3a2df4b-34a8-4549-adcb-0faa77eb2262"
      },
      "source": [
        "model = SRCNN()\n",
        "model.to(device)"
      ],
      "execution_count": null,
      "outputs": [
        {
          "output_type": "execute_result",
          "data": {
            "text/plain": [
              "SRCNN(\n",
              "  (layers): Sequential(\n",
              "    (0): Conv2d(1, 64, kernel_size=(9, 9), stride=(1, 1), padding=(4, 4))\n",
              "    (1): ReLU()\n",
              "    (2): Conv2d(64, 32, kernel_size=(1, 1), stride=(1, 1))\n",
              "    (3): ReLU()\n",
              "    (4): Conv2d(32, 1, kernel_size=(5, 5), stride=(1, 1), padding=(2, 2))\n",
              "  )\n",
              ")"
            ]
          },
          "metadata": {},
          "execution_count": 39
        }
      ]
    },
    {
      "cell_type": "markdown",
      "metadata": {
        "id": "ZSl2HM_23fSV"
      },
      "source": [
        "## Loss function, optimizer"
      ]
    },
    {
      "cell_type": "code",
      "metadata": {
        "id": "6-zU9_VMnonI"
      },
      "source": [
        "criterion = nn.MSELoss()\n",
        "optimizer = optim.Adam(model.parameters(), lr=0.001)"
      ],
      "execution_count": null,
      "outputs": []
    },
    {
      "cell_type": "markdown",
      "metadata": {
        "id": "wvnnX8DY3uAl"
      },
      "source": [
        "## Model training"
      ]
    },
    {
      "cell_type": "code",
      "metadata": {
        "colab": {
          "base_uri": "https://localhost:8080/"
        },
        "id": "PNlHxX6Oop_o",
        "outputId": "7ca8b6ef-934c-4ec1-db04-3a8cc9ef649c"
      },
      "source": [
        "for epoch in range(10):\n",
        "    pbar = tqdm(range(len(dataloader)))\n",
        "    pbar.set_description('Epoch {}'.format(epoch+1))\n",
        "\n",
        "    total_loss = 0.\n",
        "\n",
        "    for idx, (images_lr, images_hr) in enumerate(dataloader):\n",
        "        images_lr = images_lr.to(device)\n",
        "        images_hr = images_hr.to(device)\n",
        "\n",
        "        optimizer.zero_grad()\n",
        "\n",
        "        output = model(images_lr)\n",
        "\n",
        "        loss = criterion(images_hr, output)\n",
        "\n",
        "        loss.backward()\n",
        "        optimizer.step()\n",
        "\n",
        "        total_loss += loss.detach().cpu().numpy()\n",
        "        pbar.set_postfix_str('loss: ' + str(np.around(total_loss / (idx + 1), 4)))\n",
        "        pbar.update()\n",
        "\n",
        "    #torch.save(model.state_dict(), os.path.join(os.getcwd(), 'model', '{}.pth'.format(model.__class__.__name__)))"
      ],
      "execution_count": null,
      "outputs": [
        {
          "output_type": "stream",
          "name": "stderr",
          "text": [
            "Epoch 1: 100%|██████████| 125/125 [00:06<00:00, 26.46it/s, loss: 0.0057]\n",
            "  0%|          | 0/125 [00:00<?, ?it/s]\u001b[A\n",
            "Epoch 2:   0%|          | 0/125 [00:00<?, ?it/s]\u001b[A\n",
            "Epoch 2:   0%|          | 0/125 [00:00<?, ?it/s, loss: 0.0017]\u001b[A\n",
            "Epoch 1: 100%|██████████| 125/125 [00:06<00:00, 19.12it/s, loss: 0.0057]\n",
            "\n",
            "Epoch 2:   2%|▏         | 2/125 [00:00<00:07, 16.35it/s, loss: 0.0019]\u001b[A\n",
            "Epoch 2:   2%|▏         | 3/125 [00:00<00:05, 24.20it/s, loss: 0.0019]\u001b[A\n",
            "Epoch 2:   2%|▏         | 3/125 [00:00<00:05, 24.20it/s, loss: 0.0018]\u001b[A\n",
            "Epoch 2:   3%|▎         | 4/125 [00:00<00:05, 24.20it/s, loss: 0.0018]\u001b[A\n",
            "Epoch 2:   4%|▍         | 5/125 [00:00<00:04, 24.20it/s, loss: 0.0018]\u001b[A\n",
            "Epoch 2:   5%|▍         | 6/125 [00:00<00:04, 23.89it/s, loss: 0.0018]\u001b[A\n",
            "Epoch 2:   5%|▍         | 6/125 [00:00<00:04, 23.89it/s, loss: 0.0018]\u001b[A\n",
            "Epoch 2:   6%|▌         | 7/125 [00:00<00:04, 23.89it/s, loss: 0.0018]\u001b[A\n",
            "Epoch 2:   6%|▋         | 8/125 [00:00<00:04, 23.89it/s, loss: 0.0018]\u001b[A\n",
            "Epoch 2:   7%|▋         | 9/125 [00:00<00:04, 23.43it/s, loss: 0.0018]\u001b[A\n",
            "Epoch 2:   7%|▋         | 9/125 [00:00<00:04, 23.43it/s, loss: 0.0018]\u001b[A\n",
            "Epoch 2:   8%|▊         | 10/125 [00:00<00:04, 23.43it/s, loss: 0.0018]\u001b[A\n",
            "Epoch 2:   9%|▉         | 11/125 [00:00<00:04, 23.43it/s, loss: 0.0018]\u001b[A\n",
            "Epoch 2:  10%|▉         | 12/125 [00:00<00:04, 23.32it/s, loss: 0.0018]\u001b[A\n",
            "Epoch 2:  10%|▉         | 12/125 [00:00<00:04, 23.32it/s, loss: 0.0018]\u001b[A\n",
            "Epoch 2:  10%|█         | 13/125 [00:00<00:04, 23.32it/s, loss: 0.0019]\u001b[A\n",
            "Epoch 2:  11%|█         | 14/125 [00:00<00:04, 23.32it/s, loss: 0.0019]\u001b[A\n",
            "Epoch 2:  12%|█▏        | 15/125 [00:00<00:04, 23.39it/s, loss: 0.0019]\u001b[A\n",
            "Epoch 2:  12%|█▏        | 15/125 [00:00<00:04, 23.39it/s, loss: 0.0019]\u001b[A\n",
            "Epoch 2:  13%|█▎        | 16/125 [00:00<00:04, 23.39it/s, loss: 0.0019]\u001b[A\n",
            "Epoch 2:  14%|█▎        | 17/125 [00:00<00:04, 23.39it/s, loss: 0.0019]\u001b[A\n",
            "Epoch 2:  14%|█▍        | 18/125 [00:00<00:04, 23.66it/s, loss: 0.0019]\u001b[A\n",
            "Epoch 2:  14%|█▍        | 18/125 [00:00<00:04, 23.66it/s, loss: 0.0019]\u001b[A\n",
            "Epoch 2:  15%|█▌        | 19/125 [00:00<00:04, 23.66it/s, loss: 0.0019]\u001b[A\n",
            "Epoch 2:  16%|█▌        | 20/125 [00:00<00:04, 23.66it/s, loss: 0.0019]\u001b[A\n",
            "Epoch 2:  17%|█▋        | 21/125 [00:00<00:04, 23.83it/s, loss: 0.0019]\u001b[A\n",
            "Epoch 2:  17%|█▋        | 21/125 [00:00<00:04, 23.83it/s, loss: 0.0019]\u001b[A\n",
            "Epoch 2:  18%|█▊        | 22/125 [00:00<00:04, 23.83it/s, loss: 0.0019]\u001b[A\n",
            "Epoch 2:  18%|█▊        | 23/125 [00:01<00:04, 23.83it/s, loss: 0.0019]\u001b[A\n",
            "Epoch 2:  19%|█▉        | 24/125 [00:01<00:04, 23.87it/s, loss: 0.0019]\u001b[A\n",
            "Epoch 2:  19%|█▉        | 24/125 [00:01<00:04, 23.87it/s, loss: 0.0019]\u001b[A\n",
            "Epoch 2:  20%|██        | 25/125 [00:01<00:04, 23.87it/s, loss: 0.0019]\u001b[A\n",
            "Epoch 2:  21%|██        | 26/125 [00:01<00:04, 23.87it/s, loss: 0.0019]\u001b[A\n",
            "Epoch 2:  22%|██▏       | 27/125 [00:01<00:04, 23.66it/s, loss: 0.0019]\u001b[A\n",
            "Epoch 2:  22%|██▏       | 27/125 [00:01<00:04, 23.66it/s, loss: 0.0019]\u001b[A\n",
            "Epoch 2:  22%|██▏       | 28/125 [00:01<00:04, 23.66it/s, loss: 0.0019]\u001b[A\n",
            "Epoch 2:  23%|██▎       | 29/125 [00:01<00:04, 23.66it/s, loss: 0.0019]\u001b[A\n",
            "Epoch 2:  24%|██▍       | 30/125 [00:01<00:03, 23.80it/s, loss: 0.0019]\u001b[A\n",
            "Epoch 2:  24%|██▍       | 30/125 [00:01<00:03, 23.80it/s, loss: 0.0019]\u001b[A\n",
            "Epoch 2:  25%|██▍       | 31/125 [00:01<00:03, 23.80it/s, loss: 0.0019]\u001b[A\n",
            "Epoch 2:  26%|██▌       | 32/125 [00:01<00:03, 23.80it/s, loss: 0.0019]\u001b[A\n",
            "Epoch 2:  26%|██▋       | 33/125 [00:01<00:03, 23.63it/s, loss: 0.0019]\u001b[A\n",
            "Epoch 2:  26%|██▋       | 33/125 [00:01<00:03, 23.63it/s, loss: 0.0019]\u001b[A\n",
            "Epoch 2:  27%|██▋       | 34/125 [00:01<00:03, 23.63it/s, loss: 0.0019]\u001b[A\n",
            "Epoch 2:  28%|██▊       | 35/125 [00:01<00:03, 23.63it/s, loss: 0.0019]\u001b[A\n",
            "Epoch 2:  29%|██▉       | 36/125 [00:01<00:03, 23.49it/s, loss: 0.0019]\u001b[A\n",
            "Epoch 2:  29%|██▉       | 36/125 [00:01<00:03, 23.49it/s, loss: 0.0019]\u001b[A\n",
            "Epoch 2:  30%|██▉       | 37/125 [00:01<00:03, 23.49it/s, loss: 0.0019]\u001b[A\n",
            "Epoch 2:  30%|███       | 38/125 [00:01<00:03, 23.49it/s, loss: 0.0019]\u001b[A\n",
            "Epoch 2:  31%|███       | 39/125 [00:01<00:03, 22.88it/s, loss: 0.0019]\u001b[A\n",
            "Epoch 2:  31%|███       | 39/125 [00:01<00:03, 22.88it/s, loss: 0.0019]\u001b[A\n",
            "Epoch 2:  32%|███▏      | 40/125 [00:01<00:03, 22.88it/s, loss: 0.0019]\u001b[A\n",
            "Epoch 2:  33%|███▎      | 41/125 [00:01<00:03, 22.88it/s, loss: 0.0019]\u001b[A\n",
            "Epoch 2:  34%|███▎      | 42/125 [00:01<00:03, 22.76it/s, loss: 0.0019]\u001b[A\n",
            "Epoch 2:  34%|███▎      | 42/125 [00:01<00:03, 22.76it/s, loss: 0.0018]\u001b[A\n",
            "Epoch 2:  34%|███▍      | 43/125 [00:01<00:03, 22.76it/s, loss: 0.0018]\u001b[A\n",
            "Epoch 2:  35%|███▌      | 44/125 [00:01<00:03, 22.76it/s, loss: 0.0018]\u001b[A\n",
            "Epoch 2:  36%|███▌      | 45/125 [00:01<00:03, 22.87it/s, loss: 0.0018]\u001b[A\n",
            "Epoch 2:  36%|███▌      | 45/125 [00:01<00:03, 22.87it/s, loss: 0.0018]\u001b[A\n",
            "Epoch 2:  37%|███▋      | 46/125 [00:02<00:03, 22.87it/s, loss: 0.0018]\u001b[A\n",
            "Epoch 2:  38%|███▊      | 47/125 [00:02<00:03, 22.87it/s, loss: 0.0018]\u001b[A\n",
            "Epoch 2:  38%|███▊      | 48/125 [00:02<00:03, 22.76it/s, loss: 0.0018]\u001b[A\n",
            "Epoch 2:  38%|███▊      | 48/125 [00:02<00:03, 22.76it/s, loss: 0.0018]\u001b[A\n",
            "Epoch 2:  39%|███▉      | 49/125 [00:02<00:03, 22.76it/s, loss: 0.0018]\u001b[A\n",
            "Epoch 2:  40%|████      | 50/125 [00:02<00:03, 22.76it/s, loss: 0.0018]\u001b[A\n",
            "Epoch 2:  41%|████      | 51/125 [00:02<00:03, 23.09it/s, loss: 0.0018]\u001b[A\n",
            "Epoch 2:  41%|████      | 51/125 [00:02<00:03, 23.09it/s, loss: 0.0018]\u001b[A\n",
            "Epoch 2:  42%|████▏     | 52/125 [00:02<00:03, 23.09it/s, loss: 0.0018]\u001b[A\n",
            "Epoch 2:  42%|████▏     | 53/125 [00:02<00:03, 23.09it/s, loss: 0.0018]\u001b[A\n",
            "Epoch 2:  43%|████▎     | 54/125 [00:02<00:03, 23.32it/s, loss: 0.0018]\u001b[A\n",
            "Epoch 2:  43%|████▎     | 54/125 [00:02<00:03, 23.32it/s, loss: 0.0018]\u001b[A\n",
            "Epoch 2:  44%|████▍     | 55/125 [00:02<00:03, 23.32it/s, loss: 0.0018]\u001b[A\n",
            "Epoch 2:  45%|████▍     | 56/125 [00:02<00:02, 23.32it/s, loss: 0.0018]\u001b[A\n",
            "Epoch 2:  46%|████▌     | 57/125 [00:02<00:02, 23.20it/s, loss: 0.0018]\u001b[A\n",
            "Epoch 2:  46%|████▌     | 57/125 [00:02<00:02, 23.20it/s, loss: 0.0018]\u001b[A\n",
            "Epoch 2:  46%|████▋     | 58/125 [00:02<00:02, 23.20it/s, loss: 0.0018]\u001b[A\n",
            "Epoch 2:  47%|████▋     | 59/125 [00:02<00:02, 23.20it/s, loss: 0.0018]\u001b[A\n",
            "Epoch 2:  48%|████▊     | 60/125 [00:02<00:02, 22.98it/s, loss: 0.0018]\u001b[A\n",
            "Epoch 2:  48%|████▊     | 60/125 [00:02<00:02, 22.98it/s, loss: 0.0018]\u001b[A\n",
            "Epoch 2:  49%|████▉     | 61/125 [00:02<00:02, 22.98it/s, loss: 0.0018]\u001b[A\n",
            "Epoch 2:  50%|████▉     | 62/125 [00:02<00:02, 22.98it/s, loss: 0.0018]\u001b[A\n",
            "Epoch 2:  50%|█████     | 63/125 [00:02<00:02, 23.08it/s, loss: 0.0018]\u001b[A\n",
            "Epoch 2:  50%|█████     | 63/125 [00:02<00:02, 23.08it/s, loss: 0.0018]\u001b[A\n",
            "Epoch 2:  51%|█████     | 64/125 [00:02<00:02, 23.08it/s, loss: 0.0018]\u001b[A\n",
            "Epoch 2:  52%|█████▏    | 65/125 [00:02<00:02, 23.08it/s, loss: 0.0018]\u001b[A\n",
            "Epoch 2:  53%|█████▎    | 66/125 [00:02<00:02, 23.19it/s, loss: 0.0018]\u001b[A\n",
            "Epoch 2:  53%|█████▎    | 66/125 [00:02<00:02, 23.19it/s, loss: 0.0018]\u001b[A\n",
            "Epoch 2:  54%|█████▎    | 67/125 [00:02<00:02, 23.19it/s, loss: 0.0018]\u001b[A\n",
            "Epoch 2:  54%|█████▍    | 68/125 [00:02<00:02, 23.19it/s, loss: 0.0018]\u001b[A\n",
            "Epoch 2:  55%|█████▌    | 69/125 [00:02<00:02, 23.25it/s, loss: 0.0018]\u001b[A\n",
            "Epoch 2:  55%|█████▌    | 69/125 [00:03<00:02, 23.25it/s, loss: 0.0018]\u001b[A\n",
            "Epoch 2:  56%|█████▌    | 70/125 [00:03<00:02, 23.25it/s, loss: 0.0018]\u001b[A\n",
            "Epoch 2:  57%|█████▋    | 71/125 [00:03<00:02, 23.25it/s, loss: 0.0018]\u001b[A\n",
            "Epoch 2:  58%|█████▊    | 72/125 [00:03<00:02, 23.28it/s, loss: 0.0018]\u001b[A\n",
            "Epoch 2:  58%|█████▊    | 72/125 [00:03<00:02, 23.28it/s, loss: 0.0018]\u001b[A\n",
            "Epoch 2:  58%|█████▊    | 73/125 [00:03<00:02, 23.28it/s, loss: 0.0018]\u001b[A\n",
            "Epoch 2:  59%|█████▉    | 74/125 [00:03<00:02, 23.28it/s, loss: 0.0018]\u001b[A\n",
            "Epoch 2:  60%|██████    | 75/125 [00:03<00:02, 23.36it/s, loss: 0.0018]\u001b[A\n",
            "Epoch 2:  60%|██████    | 75/125 [00:03<00:02, 23.36it/s, loss: 0.0018]\u001b[A\n",
            "Epoch 2:  61%|██████    | 76/125 [00:03<00:02, 23.36it/s, loss: 0.0018]\u001b[A\n",
            "Epoch 2:  62%|██████▏   | 77/125 [00:03<00:02, 23.36it/s, loss: 0.0018]\u001b[A\n",
            "Epoch 2:  62%|██████▏   | 78/125 [00:03<00:02, 23.42it/s, loss: 0.0018]\u001b[A\n",
            "Epoch 2:  62%|██████▏   | 78/125 [00:03<00:02, 23.42it/s, loss: 0.0018]\u001b[A\n",
            "Epoch 2:  63%|██████▎   | 79/125 [00:03<00:01, 23.42it/s, loss: 0.0018]\u001b[A\n",
            "Epoch 2:  64%|██████▍   | 80/125 [00:03<00:01, 23.42it/s, loss: 0.0018]\u001b[A\n",
            "Epoch 2:  65%|██████▍   | 81/125 [00:03<00:01, 23.18it/s, loss: 0.0018]\u001b[A\n",
            "Epoch 2:  65%|██████▍   | 81/125 [00:03<00:01, 23.18it/s, loss: 0.0018]\u001b[A\n",
            "Epoch 2:  66%|██████▌   | 82/125 [00:03<00:01, 23.18it/s, loss: 0.0018]\u001b[A\n",
            "Epoch 2:  66%|██████▋   | 83/125 [00:03<00:01, 23.18it/s, loss: 0.0018]\u001b[A\n",
            "Epoch 2:  67%|██████▋   | 84/125 [00:03<00:01, 23.23it/s, loss: 0.0018]\u001b[A\n",
            "Epoch 2:  67%|██████▋   | 84/125 [00:03<00:01, 23.23it/s, loss: 0.0018]\u001b[A\n",
            "Epoch 2:  68%|██████▊   | 85/125 [00:03<00:01, 23.23it/s, loss: 0.0018]\u001b[A\n",
            "Epoch 2:  69%|██████▉   | 86/125 [00:03<00:01, 23.23it/s, loss: 0.0018]\u001b[A\n",
            "Epoch 2:  70%|██████▉   | 87/125 [00:03<00:01, 23.50it/s, loss: 0.0018]\u001b[A\n",
            "Epoch 2:  70%|██████▉   | 87/125 [00:03<00:01, 23.50it/s, loss: 0.0018]\u001b[A\n",
            "Epoch 2:  70%|███████   | 88/125 [00:03<00:01, 23.50it/s, loss: 0.0018]\u001b[A\n",
            "Epoch 2:  71%|███████   | 89/125 [00:03<00:01, 23.50it/s, loss: 0.0018]\u001b[A\n",
            "Epoch 2:  72%|███████▏  | 90/125 [00:03<00:01, 23.47it/s, loss: 0.0018]\u001b[A\n",
            "Epoch 2:  72%|███████▏  | 90/125 [00:03<00:01, 23.47it/s, loss: 0.0018]\u001b[A\n",
            "Epoch 2:  73%|███████▎  | 91/125 [00:03<00:01, 23.47it/s, loss: 0.0018]\u001b[A\n",
            "Epoch 2:  74%|███████▎  | 92/125 [00:03<00:01, 23.47it/s, loss: 0.0018]\u001b[A\n",
            "Epoch 2:  74%|███████▍  | 93/125 [00:03<00:01, 23.56it/s, loss: 0.0018]\u001b[A\n",
            "Epoch 2:  74%|███████▍  | 93/125 [00:04<00:01, 23.56it/s, loss: 0.0018]\u001b[A\n",
            "Epoch 2:  75%|███████▌  | 94/125 [00:04<00:01, 23.56it/s, loss: 0.0018]\u001b[A\n",
            "Epoch 2:  76%|███████▌  | 95/125 [00:04<00:01, 23.56it/s, loss: 0.0018]\u001b[A\n",
            "Epoch 2:  77%|███████▋  | 96/125 [00:04<00:01, 23.26it/s, loss: 0.0018]\u001b[A\n",
            "Epoch 2:  77%|███████▋  | 96/125 [00:04<00:01, 23.26it/s, loss: 0.0018]\u001b[A\n",
            "Epoch 2:  78%|███████▊  | 97/125 [00:04<00:01, 23.26it/s, loss: 0.0018]\u001b[A\n",
            "Epoch 2:  78%|███████▊  | 98/125 [00:04<00:01, 23.26it/s, loss: 0.0018]\u001b[A\n",
            "Epoch 2:  79%|███████▉  | 99/125 [00:04<00:01, 22.65it/s, loss: 0.0018]\u001b[A\n",
            "Epoch 2:  79%|███████▉  | 99/125 [00:04<00:01, 22.65it/s, loss: 0.0018]\u001b[A\n",
            "Epoch 2:  80%|████████  | 100/125 [00:04<00:01, 22.65it/s, loss: 0.0018]\u001b[A\n",
            "Epoch 2:  81%|████████  | 101/125 [00:04<00:01, 22.65it/s, loss: 0.0018]\u001b[A\n",
            "Epoch 2:  82%|████████▏ | 102/125 [00:04<00:01, 22.15it/s, loss: 0.0018]\u001b[A\n",
            "Epoch 2:  82%|████████▏ | 102/125 [00:04<00:01, 22.15it/s, loss: 0.0018]\u001b[A\n",
            "Epoch 2:  82%|████████▏ | 103/125 [00:04<00:00, 22.15it/s, loss: 0.0018]\u001b[A\n",
            "Epoch 2:  83%|████████▎ | 104/125 [00:04<00:00, 22.15it/s, loss: 0.0018]\u001b[A\n",
            "Epoch 2:  84%|████████▍ | 105/125 [00:04<00:00, 21.75it/s, loss: 0.0018]\u001b[A\n",
            "Epoch 2:  84%|████████▍ | 105/125 [00:04<00:00, 21.75it/s, loss: 0.0018]\u001b[A\n",
            "Epoch 2:  85%|████████▍ | 106/125 [00:04<00:00, 21.75it/s, loss: 0.0018]\u001b[A\n",
            "Epoch 2:  86%|████████▌ | 107/125 [00:04<00:00, 21.75it/s, loss: 0.0018]\u001b[A\n",
            "Epoch 2:  86%|████████▋ | 108/125 [00:04<00:00, 21.76it/s, loss: 0.0018]\u001b[A\n",
            "Epoch 2:  86%|████████▋ | 108/125 [00:04<00:00, 21.76it/s, loss: 0.0018]\u001b[A\n",
            "Epoch 2:  87%|████████▋ | 109/125 [00:04<00:00, 21.76it/s, loss: 0.0018]\u001b[A\n",
            "Epoch 2:  88%|████████▊ | 110/125 [00:04<00:00, 21.76it/s, loss: 0.0018]\u001b[A\n",
            "Epoch 2:  89%|████████▉ | 111/125 [00:04<00:00, 22.32it/s, loss: 0.0018]\u001b[A\n",
            "Epoch 2:  89%|████████▉ | 111/125 [00:04<00:00, 22.32it/s, loss: 0.0018]\u001b[A\n",
            "Epoch 2:  90%|████████▉ | 112/125 [00:04<00:00, 22.32it/s, loss: 0.0018]\u001b[A\n",
            "Epoch 2:  90%|█████████ | 113/125 [00:04<00:00, 22.32it/s, loss: 0.0018]\u001b[A\n",
            "Epoch 2:  91%|█████████ | 114/125 [00:04<00:00, 22.59it/s, loss: 0.0018]\u001b[A\n",
            "Epoch 2:  91%|█████████ | 114/125 [00:04<00:00, 22.59it/s, loss: 0.0018]\u001b[A\n",
            "Epoch 2:  92%|█████████▏| 115/125 [00:05<00:00, 22.59it/s, loss: 0.0018]\u001b[A\n",
            "Epoch 2:  93%|█████████▎| 116/125 [00:05<00:00, 22.59it/s, loss: 0.0018]\u001b[A\n",
            "Epoch 2:  94%|█████████▎| 117/125 [00:05<00:00, 22.73it/s, loss: 0.0018]\u001b[A\n",
            "Epoch 2:  94%|█████████▎| 117/125 [00:05<00:00, 22.73it/s, loss: 0.0018]\u001b[A\n",
            "Epoch 2:  94%|█████████▍| 118/125 [00:05<00:00, 22.73it/s, loss: 0.0018]\u001b[A\n",
            "Epoch 2:  95%|█████████▌| 119/125 [00:05<00:00, 22.73it/s, loss: 0.0018]\u001b[A\n",
            "Epoch 2:  96%|█████████▌| 120/125 [00:05<00:00, 22.07it/s, loss: 0.0018]\u001b[A\n",
            "Epoch 2:  96%|█████████▌| 120/125 [00:05<00:00, 22.07it/s, loss: 0.0018]\u001b[A\n",
            "Epoch 2:  97%|█████████▋| 121/125 [00:05<00:00, 22.07it/s, loss: 0.0018]\u001b[A\n",
            "Epoch 2:  98%|█████████▊| 122/125 [00:05<00:00, 22.07it/s, loss: 0.0018]\u001b[A\n",
            "Epoch 2:  98%|█████████▊| 123/125 [00:05<00:00, 22.26it/s, loss: 0.0018]\u001b[A\n",
            "Epoch 2:  98%|█████████▊| 123/125 [00:05<00:00, 22.26it/s, loss: 0.0018]\u001b[A\n",
            "Epoch 2: 100%|██████████| 125/125 [00:05<00:00, 22.61it/s, loss: 0.0018]\n",
            "Epoch 3:  99%|█████████▉| 124/125 [00:04<00:00, 25.04it/s, loss: 0.0017]\n",
            "  0%|          | 0/125 [00:00<?, ?it/s]\u001b[A\n",
            "Epoch 4:   0%|          | 0/125 [00:00<?, ?it/s]\u001b[A\n",
            "Epoch 4:   0%|          | 0/125 [00:00<?, ?it/s, loss: 0.0015]\u001b[A\n",
            "Epoch 4:   1%|          | 1/125 [00:00<00:10, 11.53it/s, loss: 0.0015]\u001b[A\n",
            "Epoch 4:   2%|▏         | 2/125 [00:00<00:08, 15.36it/s, loss: 0.0016]\u001b[A\n",
            "Epoch 3: 100%|██████████| 125/125 [00:05<00:00, 24.41it/s, loss: 0.0017]\n",
            "\n",
            "Epoch 4:   2%|▏         | 3/125 [00:00<00:05, 22.59it/s, loss: 0.0016]\u001b[A\n",
            "Epoch 4:   3%|▎         | 4/125 [00:00<00:05, 22.59it/s, loss: 0.0016]\u001b[A\n",
            "Epoch 4:   4%|▍         | 5/125 [00:00<00:05, 22.59it/s, loss: 0.0017]\u001b[A\n",
            "Epoch 4:   5%|▍         | 6/125 [00:00<00:05, 22.64it/s, loss: 0.0017]\u001b[A\n",
            "Epoch 4:   5%|▍         | 6/125 [00:00<00:05, 22.64it/s, loss: 0.0017]\u001b[A\n",
            "Epoch 4:   6%|▌         | 7/125 [00:00<00:05, 22.64it/s, loss: 0.0017]\u001b[A\n",
            "Epoch 4:   6%|▋         | 8/125 [00:00<00:05, 22.64it/s, loss: 0.0017]\u001b[A\n",
            "Epoch 4:   7%|▋         | 9/125 [00:00<00:05, 23.02it/s, loss: 0.0017]\u001b[A\n",
            "Epoch 4:   7%|▋         | 9/125 [00:00<00:05, 23.02it/s, loss: 0.0017]\u001b[A\n",
            "Epoch 4:   8%|▊         | 10/125 [00:00<00:04, 23.02it/s, loss: 0.0017]\u001b[A\n",
            "Epoch 4:   9%|▉         | 11/125 [00:00<00:04, 23.02it/s, loss: 0.0017]\u001b[A\n",
            "Epoch 4:  10%|▉         | 12/125 [00:00<00:04, 23.20it/s, loss: 0.0017]\u001b[A\n",
            "Epoch 4:  10%|▉         | 12/125 [00:00<00:04, 23.20it/s, loss: 0.0017]\u001b[A\n",
            "Epoch 4:  10%|█         | 13/125 [00:00<00:04, 23.20it/s, loss: 0.0017]\u001b[A\n",
            "Epoch 4:  11%|█         | 14/125 [00:00<00:04, 23.20it/s, loss: 0.0017]\u001b[A\n",
            "Epoch 4:  12%|█▏        | 15/125 [00:00<00:04, 23.35it/s, loss: 0.0017]\u001b[A\n",
            "Epoch 4:  12%|█▏        | 15/125 [00:00<00:04, 23.35it/s, loss: 0.0017]\u001b[A\n",
            "Epoch 4:  13%|█▎        | 16/125 [00:00<00:04, 23.35it/s, loss: 0.0017]\u001b[A\n",
            "Epoch 4:  14%|█▎        | 17/125 [00:00<00:04, 23.35it/s, loss: 0.0017]\u001b[A\n",
            "Epoch 4:  14%|█▍        | 18/125 [00:00<00:04, 23.30it/s, loss: 0.0017]\u001b[A\n",
            "Epoch 4:  14%|█▍        | 18/125 [00:00<00:04, 23.30it/s, loss: 0.0017]\u001b[A\n",
            "Epoch 4:  15%|█▌        | 19/125 [00:00<00:04, 23.30it/s, loss: 0.0016]\u001b[A\n",
            "Epoch 4:  16%|█▌        | 20/125 [00:00<00:04, 23.30it/s, loss: 0.0016]\u001b[A\n",
            "Epoch 4:  17%|█▋        | 21/125 [00:00<00:04, 23.31it/s, loss: 0.0016]\u001b[A\n",
            "Epoch 4:  17%|█▋        | 21/125 [00:00<00:04, 23.31it/s, loss: 0.0016]\u001b[A\n",
            "Epoch 4:  18%|█▊        | 22/125 [00:00<00:04, 23.31it/s, loss: 0.0016]\u001b[A\n",
            "Epoch 4:  18%|█▊        | 23/125 [00:01<00:04, 23.31it/s, loss: 0.0016]\u001b[A\n",
            "Epoch 4:  19%|█▉        | 24/125 [00:01<00:04, 23.47it/s, loss: 0.0016]\u001b[A\n",
            "Epoch 4:  19%|█▉        | 24/125 [00:01<00:04, 23.47it/s, loss: 0.0016]\u001b[A\n",
            "Epoch 4:  20%|██        | 25/125 [00:01<00:04, 23.47it/s, loss: 0.0016]\u001b[A\n",
            "Epoch 4:  21%|██        | 26/125 [00:01<00:04, 23.47it/s, loss: 0.0016]\u001b[A\n",
            "Epoch 4:  22%|██▏       | 27/125 [00:01<00:04, 23.20it/s, loss: 0.0016]\u001b[A\n",
            "Epoch 4:  22%|██▏       | 27/125 [00:01<00:04, 23.20it/s, loss: 0.0016]\u001b[A\n",
            "Epoch 4:  22%|██▏       | 28/125 [00:01<00:04, 23.20it/s, loss: 0.0016]\u001b[A\n",
            "Epoch 4:  23%|██▎       | 29/125 [00:01<00:04, 23.20it/s, loss: 0.0016]\u001b[A\n",
            "Epoch 4:  24%|██▍       | 30/125 [00:01<00:04, 23.00it/s, loss: 0.0016]\u001b[A\n",
            "Epoch 4:  24%|██▍       | 30/125 [00:01<00:04, 23.00it/s, loss: 0.0016]\u001b[A\n",
            "Epoch 4:  25%|██▍       | 31/125 [00:01<00:04, 23.00it/s, loss: 0.0016]\u001b[A\n",
            "Epoch 4:  26%|██▌       | 32/125 [00:01<00:04, 23.00it/s, loss: 0.0016]\u001b[A\n",
            "Epoch 4:  26%|██▋       | 33/125 [00:01<00:03, 23.24it/s, loss: 0.0016]\u001b[A\n",
            "Epoch 4:  26%|██▋       | 33/125 [00:01<00:03, 23.24it/s, loss: 0.0016]\u001b[A\n",
            "Epoch 4:  27%|██▋       | 34/125 [00:01<00:03, 23.24it/s, loss: 0.0016]\u001b[A\n",
            "Epoch 4:  28%|██▊       | 35/125 [00:01<00:03, 23.24it/s, loss: 0.0016]\u001b[A\n",
            "Epoch 4:  29%|██▉       | 36/125 [00:01<00:03, 23.03it/s, loss: 0.0016]\u001b[A\n",
            "Epoch 4:  29%|██▉       | 36/125 [00:01<00:03, 23.03it/s, loss: 0.0016]\u001b[A\n",
            "Epoch 4:  30%|██▉       | 37/125 [00:01<00:03, 23.03it/s, loss: 0.0016]\u001b[A\n",
            "Epoch 4:  30%|███       | 38/125 [00:01<00:03, 23.03it/s, loss: 0.0016]\u001b[A\n",
            "Epoch 4:  31%|███       | 39/125 [00:01<00:03, 23.29it/s, loss: 0.0016]\u001b[A\n",
            "Epoch 4:  31%|███       | 39/125 [00:01<00:03, 23.29it/s, loss: 0.0016]\u001b[A\n",
            "Epoch 4:  32%|███▏      | 40/125 [00:01<00:03, 23.29it/s, loss: 0.0016]\u001b[A\n",
            "Epoch 4:  33%|███▎      | 41/125 [00:01<00:03, 23.29it/s, loss: 0.0016]\u001b[A\n",
            "Epoch 4:  34%|███▎      | 42/125 [00:01<00:03, 23.23it/s, loss: 0.0016]\u001b[A\n",
            "Epoch 4:  34%|███▎      | 42/125 [00:01<00:03, 23.23it/s, loss: 0.0016]\u001b[A\n",
            "Epoch 4:  34%|███▍      | 43/125 [00:01<00:03, 23.23it/s, loss: 0.0016]\u001b[A\n",
            "Epoch 4:  35%|███▌      | 44/125 [00:01<00:03, 23.23it/s, loss: 0.0016]\u001b[A\n",
            "Epoch 4:  36%|███▌      | 45/125 [00:01<00:03, 23.34it/s, loss: 0.0016]\u001b[A\n",
            "Epoch 4:  36%|███▌      | 45/125 [00:01<00:03, 23.34it/s, loss: 0.0016]\u001b[A\n",
            "Epoch 4:  37%|███▋      | 46/125 [00:02<00:03, 23.34it/s, loss: 0.0016]\u001b[A\n",
            "Epoch 4:  38%|███▊      | 47/125 [00:02<00:03, 23.34it/s, loss: 0.0016]\u001b[A\n",
            "Epoch 4:  38%|███▊      | 48/125 [00:02<00:03, 23.56it/s, loss: 0.0016]\u001b[A\n",
            "Epoch 4:  38%|███▊      | 48/125 [00:02<00:03, 23.56it/s, loss: 0.0016]\u001b[A\n",
            "Epoch 4:  39%|███▉      | 49/125 [00:02<00:03, 23.56it/s, loss: 0.0016]\u001b[A\n",
            "Epoch 4:  40%|████      | 50/125 [00:02<00:03, 23.56it/s, loss: 0.0016]\u001b[A\n",
            "Epoch 4:  41%|████      | 51/125 [00:02<00:03, 23.57it/s, loss: 0.0016]\u001b[A\n",
            "Epoch 4:  41%|████      | 51/125 [00:02<00:03, 23.57it/s, loss: 0.0016]\u001b[A\n",
            "Epoch 4:  42%|████▏     | 52/125 [00:02<00:03, 23.57it/s, loss: 0.0016]\u001b[A\n",
            "Epoch 4:  42%|████▏     | 53/125 [00:02<00:03, 23.57it/s, loss: 0.0016]\u001b[A\n",
            "Epoch 4:  43%|████▎     | 54/125 [00:02<00:03, 23.49it/s, loss: 0.0016]\u001b[A\n",
            "Epoch 4:  43%|████▎     | 54/125 [00:02<00:03, 23.49it/s, loss: 0.0016]\u001b[A\n",
            "Epoch 4:  44%|████▍     | 55/125 [00:02<00:02, 23.49it/s, loss: 0.0016]\u001b[A\n",
            "Epoch 4:  45%|████▍     | 56/125 [00:02<00:02, 23.49it/s, loss: 0.0016]\u001b[A\n",
            "Epoch 4:  46%|████▌     | 57/125 [00:02<00:02, 23.43it/s, loss: 0.0016]\u001b[A\n",
            "Epoch 4:  46%|████▌     | 57/125 [00:02<00:02, 23.43it/s, loss: 0.0016]\u001b[A\n",
            "Epoch 4:  46%|████▋     | 58/125 [00:02<00:02, 23.43it/s, loss: 0.0016]\u001b[A\n",
            "Epoch 4:  47%|████▋     | 59/125 [00:02<00:02, 23.43it/s, loss: 0.0016]\u001b[A\n",
            "Epoch 4:  48%|████▊     | 60/125 [00:02<00:02, 23.53it/s, loss: 0.0016]\u001b[A\n",
            "Epoch 4:  48%|████▊     | 60/125 [00:02<00:02, 23.53it/s, loss: 0.0016]\u001b[A\n",
            "Epoch 4:  49%|████▉     | 61/125 [00:02<00:02, 23.53it/s, loss: 0.0016]\u001b[A\n",
            "Epoch 4:  50%|████▉     | 62/125 [00:02<00:02, 23.53it/s, loss: 0.0016]\u001b[A\n",
            "Epoch 4:  50%|█████     | 63/125 [00:02<00:02, 23.63it/s, loss: 0.0016]\u001b[A\n",
            "Epoch 4:  50%|█████     | 63/125 [00:02<00:02, 23.63it/s, loss: 0.0016]\u001b[A\n",
            "Epoch 4:  51%|█████     | 64/125 [00:02<00:02, 23.63it/s, loss: 0.0016]\u001b[A\n",
            "Epoch 4:  52%|█████▏    | 65/125 [00:02<00:02, 23.63it/s, loss: 0.0016]\u001b[A\n",
            "Epoch 4:  53%|█████▎    | 66/125 [00:02<00:02, 23.25it/s, loss: 0.0016]\u001b[A\n",
            "Epoch 4:  53%|█████▎    | 66/125 [00:02<00:02, 23.25it/s, loss: 0.0016]\u001b[A\n",
            "Epoch 4:  54%|█████▎    | 67/125 [00:02<00:02, 23.25it/s, loss: 0.0016]\u001b[A\n",
            "Epoch 4:  54%|█████▍    | 68/125 [00:02<00:02, 23.25it/s, loss: 0.0016]\u001b[A\n",
            "Epoch 4:  55%|█████▌    | 69/125 [00:02<00:02, 23.15it/s, loss: 0.0016]\u001b[A\n",
            "Epoch 4:  55%|█████▌    | 69/125 [00:03<00:02, 23.15it/s, loss: 0.0016]\u001b[A\n",
            "Epoch 4:  56%|█████▌    | 70/125 [00:03<00:02, 23.15it/s, loss: 0.0016]\u001b[A\n",
            "Epoch 4:  57%|█████▋    | 71/125 [00:03<00:02, 23.15it/s, loss: 0.0016]\u001b[A\n",
            "Epoch 4:  58%|█████▊    | 72/125 [00:03<00:02, 22.85it/s, loss: 0.0016]\u001b[A\n",
            "Epoch 4:  58%|█████▊    | 72/125 [00:03<00:02, 22.85it/s, loss: 0.0016]\u001b[A\n",
            "Epoch 4:  58%|█████▊    | 73/125 [00:03<00:02, 22.85it/s, loss: 0.0016]\u001b[A\n",
            "Epoch 4:  59%|█████▉    | 74/125 [00:03<00:02, 22.85it/s, loss: 0.0016]\u001b[A\n",
            "Epoch 4:  60%|██████    | 75/125 [00:03<00:02, 22.67it/s, loss: 0.0016]\u001b[A\n",
            "Epoch 4:  60%|██████    | 75/125 [00:03<00:02, 22.67it/s, loss: 0.0016]\u001b[A\n",
            "Epoch 4:  61%|██████    | 76/125 [00:03<00:02, 22.67it/s, loss: 0.0016]\u001b[A\n",
            "Epoch 4:  62%|██████▏   | 77/125 [00:03<00:02, 22.67it/s, loss: 0.0016]\u001b[A\n",
            "Epoch 4:  62%|██████▏   | 78/125 [00:03<00:02, 22.79it/s, loss: 0.0016]\u001b[A\n",
            "Epoch 4:  62%|██████▏   | 78/125 [00:03<00:02, 22.79it/s, loss: 0.0016]\u001b[A\n",
            "Epoch 4:  63%|██████▎   | 79/125 [00:03<00:02, 22.79it/s, loss: 0.0016]\u001b[A\n",
            "Epoch 4:  64%|██████▍   | 80/125 [00:03<00:01, 22.79it/s, loss: 0.0016]\u001b[A\n",
            "Epoch 4:  65%|██████▍   | 81/125 [00:03<00:01, 23.08it/s, loss: 0.0016]\u001b[A\n",
            "Epoch 4:  65%|██████▍   | 81/125 [00:03<00:01, 23.08it/s, loss: 0.0016]\u001b[A\n",
            "Epoch 4:  66%|██████▌   | 82/125 [00:03<00:01, 23.08it/s, loss: 0.0016]\u001b[A\n",
            "Epoch 4:  66%|██████▋   | 83/125 [00:03<00:01, 23.08it/s, loss: 0.0016]\u001b[A\n",
            "Epoch 4:  67%|██████▋   | 84/125 [00:03<00:01, 23.12it/s, loss: 0.0016]\u001b[A\n",
            "Epoch 4:  67%|██████▋   | 84/125 [00:03<00:01, 23.12it/s, loss: 0.0016]\u001b[A\n",
            "Epoch 4:  68%|██████▊   | 85/125 [00:03<00:01, 23.12it/s, loss: 0.0016]\u001b[A\n",
            "Epoch 4:  69%|██████▉   | 86/125 [00:03<00:01, 23.12it/s, loss: 0.0016]\u001b[A\n",
            "Epoch 4:  70%|██████▉   | 87/125 [00:03<00:01, 23.07it/s, loss: 0.0016]\u001b[A\n",
            "Epoch 4:  70%|██████▉   | 87/125 [00:03<00:01, 23.07it/s, loss: 0.0016]\u001b[A\n",
            "Epoch 4:  70%|███████   | 88/125 [00:03<00:01, 23.07it/s, loss: 0.0016]\u001b[A\n",
            "Epoch 4:  71%|███████   | 89/125 [00:03<00:01, 23.07it/s, loss: 0.0016]\u001b[A\n",
            "Epoch 4:  72%|███████▏  | 90/125 [00:03<00:01, 23.01it/s, loss: 0.0016]\u001b[A\n",
            "Epoch 4:  72%|███████▏  | 90/125 [00:03<00:01, 23.01it/s, loss: 0.0016]\u001b[A\n",
            "Epoch 4:  73%|███████▎  | 91/125 [00:03<00:01, 23.01it/s, loss: 0.0016]\u001b[A\n",
            "Epoch 4:  74%|███████▎  | 92/125 [00:04<00:01, 23.01it/s, loss: 0.0016]\u001b[A\n",
            "Epoch 4:  74%|███████▍  | 93/125 [00:04<00:01, 22.95it/s, loss: 0.0016]\u001b[A\n",
            "Epoch 4:  74%|███████▍  | 93/125 [00:04<00:01, 22.95it/s, loss: 0.0016]\u001b[A\n",
            "Epoch 4:  75%|███████▌  | 94/125 [00:04<00:01, 22.95it/s, loss: 0.0016]\u001b[A\n",
            "Epoch 4:  76%|███████▌  | 95/125 [00:04<00:01, 22.95it/s, loss: 0.0016]\u001b[A\n",
            "Epoch 4:  77%|███████▋  | 96/125 [00:04<00:01, 22.80it/s, loss: 0.0016]\u001b[A\n",
            "Epoch 4:  77%|███████▋  | 96/125 [00:04<00:01, 22.80it/s, loss: 0.0016]\u001b[A\n",
            "Epoch 4:  78%|███████▊  | 97/125 [00:04<00:01, 22.80it/s, loss: 0.0016]\u001b[A\n",
            "Epoch 4:  78%|███████▊  | 98/125 [00:04<00:01, 22.80it/s, loss: 0.0016]\u001b[A\n",
            "Epoch 4:  79%|███████▉  | 99/125 [00:04<00:01, 22.85it/s, loss: 0.0016]\u001b[A\n",
            "Epoch 4:  79%|███████▉  | 99/125 [00:04<00:01, 22.85it/s, loss: 0.0016]\u001b[A\n",
            "Epoch 4:  80%|████████  | 100/125 [00:04<00:01, 22.85it/s, loss: 0.0016]\u001b[A\n",
            "Epoch 4:  81%|████████  | 101/125 [00:04<00:01, 22.85it/s, loss: 0.0016]\u001b[A\n",
            "Epoch 4:  82%|████████▏ | 102/125 [00:04<00:00, 23.09it/s, loss: 0.0016]\u001b[A\n",
            "Epoch 4:  82%|████████▏ | 102/125 [00:04<00:00, 23.09it/s, loss: 0.0016]\u001b[A\n",
            "Epoch 4:  82%|████████▏ | 103/125 [00:04<00:00, 23.09it/s, loss: 0.0016]\u001b[A\n",
            "Epoch 4:  83%|████████▎ | 104/125 [00:04<00:00, 23.09it/s, loss: 0.0016]\u001b[A\n",
            "Epoch 4:  84%|████████▍ | 105/125 [00:04<00:00, 23.24it/s, loss: 0.0016]\u001b[A\n",
            "Epoch 4:  84%|████████▍ | 105/125 [00:04<00:00, 23.24it/s, loss: 0.0016]\u001b[A\n",
            "Epoch 4:  85%|████████▍ | 106/125 [00:04<00:00, 23.24it/s, loss: 0.0016]\u001b[A\n",
            "Epoch 4:  86%|████████▌ | 107/125 [00:04<00:00, 23.24it/s, loss: 0.0016]\u001b[A\n",
            "Epoch 4:  86%|████████▋ | 108/125 [00:04<00:00, 22.65it/s, loss: 0.0016]\u001b[A\n",
            "Epoch 4:  86%|████████▋ | 108/125 [00:04<00:00, 22.65it/s, loss: 0.0016]\u001b[A\n",
            "Epoch 4:  87%|████████▋ | 109/125 [00:04<00:00, 22.65it/s, loss: 0.0016]\u001b[A\n",
            "Epoch 4:  88%|████████▊ | 110/125 [00:04<00:00, 22.65it/s, loss: 0.0016]\u001b[A\n",
            "Epoch 4:  89%|████████▉ | 111/125 [00:04<00:00, 23.00it/s, loss: 0.0016]\u001b[A\n",
            "Epoch 4:  89%|████████▉ | 111/125 [00:04<00:00, 23.00it/s, loss: 0.0016]\u001b[A\n",
            "Epoch 4:  90%|████████▉ | 112/125 [00:04<00:00, 23.00it/s, loss: 0.0016]\u001b[A\n",
            "Epoch 4:  90%|█████████ | 113/125 [00:04<00:00, 23.00it/s, loss: 0.0016]\u001b[A\n",
            "Epoch 4:  91%|█████████ | 114/125 [00:04<00:00, 23.29it/s, loss: 0.0016]\u001b[A\n",
            "Epoch 4:  91%|█████████ | 114/125 [00:04<00:00, 23.29it/s, loss: 0.0016]\u001b[A\n",
            "Epoch 4:  92%|█████████▏| 115/125 [00:05<00:00, 23.29it/s, loss: 0.0016]\u001b[A\n",
            "Epoch 4:  93%|█████████▎| 116/125 [00:05<00:00, 23.29it/s, loss: 0.0016]\u001b[A\n",
            "Epoch 4:  94%|█████████▎| 117/125 [00:05<00:00, 22.87it/s, loss: 0.0016]\u001b[A\n",
            "Epoch 4:  94%|█████████▎| 117/125 [00:05<00:00, 22.87it/s, loss: 0.0016]\u001b[A\n",
            "Epoch 4:  94%|█████████▍| 118/125 [00:05<00:00, 22.87it/s, loss: 0.0016]\u001b[A\n",
            "Epoch 4:  95%|█████████▌| 119/125 [00:05<00:00, 22.87it/s, loss: 0.0016]\u001b[A\n",
            "Epoch 4:  96%|█████████▌| 120/125 [00:05<00:00, 22.26it/s, loss: 0.0016]\u001b[A\n",
            "Epoch 4:  96%|█████████▌| 120/125 [00:05<00:00, 22.26it/s, loss: 0.0016]\u001b[A\n",
            "Epoch 4:  97%|█████████▋| 121/125 [00:05<00:00, 22.26it/s, loss: 0.0016]\u001b[A\n",
            "Epoch 4:  98%|█████████▊| 122/125 [00:05<00:00, 22.26it/s, loss: 0.0016]\u001b[A\n",
            "Epoch 4:  98%|█████████▊| 123/125 [00:05<00:00, 22.40it/s, loss: 0.0016]\u001b[A\n",
            "Epoch 4:  98%|█████████▊| 123/125 [00:05<00:00, 22.40it/s, loss: 0.0016]\u001b[A\n",
            "Epoch 4: 100%|██████████| 125/125 [00:05<00:00, 22.43it/s, loss: 0.0016]\n",
            "Epoch 5:  99%|█████████▉| 124/125 [00:05<00:00, 24.90it/s, loss: 0.0016]\n",
            "  0%|          | 0/125 [00:00<?, ?it/s]\u001b[A\n",
            "Epoch 6:   0%|          | 0/125 [00:00<?, ?it/s]\u001b[A\n",
            "Epoch 5: 100%|██████████| 125/125 [00:05<00:00, 24.16it/s, loss: 0.0016]\n",
            "\n",
            "Epoch 6:   1%|          | 1/125 [00:00<00:10, 11.98it/s, loss: 0.0016]\u001b[A\n",
            "Epoch 6:   2%|▏         | 2/125 [00:00<00:07, 15.99it/s, loss: 0.0017]\u001b[A\n",
            "Epoch 6:   2%|▏         | 3/125 [00:00<00:05, 23.64it/s, loss: 0.0017]\u001b[A\n",
            "Epoch 6:   2%|▏         | 3/125 [00:00<00:05, 23.64it/s, loss: 0.0017]\u001b[A\n",
            "Epoch 6:   3%|▎         | 4/125 [00:00<00:05, 23.64it/s, loss: 0.0016]\u001b[A\n",
            "Epoch 6:   4%|▍         | 5/125 [00:00<00:05, 23.64it/s, loss: 0.0016]\u001b[A\n",
            "Epoch 6:   5%|▍         | 6/125 [00:00<00:05, 23.70it/s, loss: 0.0016]\u001b[A\n",
            "Epoch 6:   5%|▍         | 6/125 [00:00<00:05, 23.70it/s, loss: 0.0017]\u001b[A\n",
            "Epoch 6:   6%|▌         | 7/125 [00:00<00:04, 23.70it/s, loss: 0.0017]\u001b[A\n",
            "Epoch 6:   6%|▋         | 8/125 [00:00<00:04, 23.70it/s, loss: 0.0016]\u001b[A\n",
            "Epoch 6:   7%|▋         | 9/125 [00:00<00:04, 23.34it/s, loss: 0.0016]\u001b[A\n",
            "Epoch 6:   7%|▋         | 9/125 [00:00<00:04, 23.34it/s, loss: 0.0017]\u001b[A\n",
            "Epoch 6:   8%|▊         | 10/125 [00:00<00:04, 23.34it/s, loss: 0.0017]\u001b[A\n",
            "Epoch 6:   9%|▉         | 11/125 [00:00<00:04, 23.34it/s, loss: 0.0017]\u001b[A\n",
            "Epoch 6:  10%|▉         | 12/125 [00:00<00:04, 23.76it/s, loss: 0.0017]\u001b[A\n",
            "Epoch 6:  10%|▉         | 12/125 [00:00<00:04, 23.76it/s, loss: 0.0016]\u001b[A\n",
            "Epoch 6:  10%|█         | 13/125 [00:00<00:04, 23.76it/s, loss: 0.0016]\u001b[A\n",
            "Epoch 6:  11%|█         | 14/125 [00:00<00:04, 23.76it/s, loss: 0.0016]\u001b[A\n",
            "Epoch 6:  12%|█▏        | 15/125 [00:00<00:04, 23.35it/s, loss: 0.0016]\u001b[A\n",
            "Epoch 6:  12%|█▏        | 15/125 [00:00<00:04, 23.35it/s, loss: 0.0016]\u001b[A\n",
            "Epoch 6:  13%|█▎        | 16/125 [00:00<00:04, 23.35it/s, loss: 0.0016]\u001b[A\n",
            "Epoch 6:  14%|█▎        | 17/125 [00:00<00:04, 23.35it/s, loss: 0.0016]\u001b[A\n",
            "Epoch 6:  14%|█▍        | 18/125 [00:00<00:04, 23.24it/s, loss: 0.0016]\u001b[A\n",
            "Epoch 6:  14%|█▍        | 18/125 [00:00<00:04, 23.24it/s, loss: 0.0016]\u001b[A\n",
            "Epoch 6:  15%|█▌        | 19/125 [00:00<00:04, 23.24it/s, loss: 0.0016]\u001b[A\n",
            "Epoch 6:  16%|█▌        | 20/125 [00:00<00:04, 23.24it/s, loss: 0.0016]\u001b[A\n",
            "Epoch 6:  17%|█▋        | 21/125 [00:00<00:04, 23.37it/s, loss: 0.0016]\u001b[A\n",
            "Epoch 6:  17%|█▋        | 21/125 [00:00<00:04, 23.37it/s, loss: 0.0016]\u001b[A\n",
            "Epoch 6:  18%|█▊        | 22/125 [00:00<00:04, 23.37it/s, loss: 0.0016]\u001b[A\n",
            "Epoch 6:  18%|█▊        | 23/125 [00:01<00:04, 23.37it/s, loss: 0.0016]\u001b[A\n",
            "Epoch 6:  19%|█▉        | 24/125 [00:01<00:04, 23.34it/s, loss: 0.0016]\u001b[A\n",
            "Epoch 6:  19%|█▉        | 24/125 [00:01<00:04, 23.34it/s, loss: 0.0016]\u001b[A\n",
            "Epoch 6:  20%|██        | 25/125 [00:01<00:04, 23.34it/s, loss: 0.0016]\u001b[A\n",
            "Epoch 6:  21%|██        | 26/125 [00:01<00:04, 23.34it/s, loss: 0.0016]\u001b[A\n",
            "Epoch 6:  22%|██▏       | 27/125 [00:01<00:04, 23.25it/s, loss: 0.0016]\u001b[A\n",
            "Epoch 6:  22%|██▏       | 27/125 [00:01<00:04, 23.25it/s, loss: 0.0016]\u001b[A\n",
            "Epoch 6:  22%|██▏       | 28/125 [00:01<00:04, 23.25it/s, loss: 0.0016]\u001b[A\n",
            "Epoch 6:  23%|██▎       | 29/125 [00:01<00:04, 23.25it/s, loss: 0.0016]\u001b[A\n",
            "Epoch 6:  24%|██▍       | 30/125 [00:01<00:04, 23.26it/s, loss: 0.0016]\u001b[A\n",
            "Epoch 6:  24%|██▍       | 30/125 [00:01<00:04, 23.26it/s, loss: 0.0016]\u001b[A\n",
            "Epoch 6:  25%|██▍       | 31/125 [00:01<00:04, 23.26it/s, loss: 0.0016]\u001b[A\n",
            "Epoch 6:  26%|██▌       | 32/125 [00:01<00:03, 23.26it/s, loss: 0.0016]\u001b[A\n",
            "Epoch 6:  26%|██▋       | 33/125 [00:01<00:03, 23.44it/s, loss: 0.0016]\u001b[A\n",
            "Epoch 6:  26%|██▋       | 33/125 [00:01<00:03, 23.44it/s, loss: 0.0016]\u001b[A\n",
            "Epoch 6:  27%|██▋       | 34/125 [00:01<00:03, 23.44it/s, loss: 0.0016]\u001b[A\n",
            "Epoch 6:  28%|██▊       | 35/125 [00:01<00:03, 23.44it/s, loss: 0.0016]\u001b[A\n",
            "Epoch 6:  29%|██▉       | 36/125 [00:01<00:03, 23.21it/s, loss: 0.0016]\u001b[A\n",
            "Epoch 6:  29%|██▉       | 36/125 [00:01<00:03, 23.21it/s, loss: 0.0016]\u001b[A\n",
            "Epoch 6:  30%|██▉       | 37/125 [00:01<00:03, 23.21it/s, loss: 0.0016]\u001b[A\n",
            "Epoch 6:  30%|███       | 38/125 [00:01<00:03, 23.21it/s, loss: 0.0016]\u001b[A\n",
            "Epoch 6:  31%|███       | 39/125 [00:01<00:03, 22.83it/s, loss: 0.0016]\u001b[A\n",
            "Epoch 6:  31%|███       | 39/125 [00:01<00:03, 22.83it/s, loss: 0.0016]\u001b[A\n",
            "Epoch 6:  32%|███▏      | 40/125 [00:01<00:03, 22.83it/s, loss: 0.0016]\u001b[A\n",
            "Epoch 6:  33%|███▎      | 41/125 [00:01<00:03, 22.83it/s, loss: 0.0016]\u001b[A\n",
            "Epoch 6:  34%|███▎      | 42/125 [00:01<00:03, 22.49it/s, loss: 0.0016]\u001b[A\n",
            "Epoch 6:  34%|███▎      | 42/125 [00:01<00:03, 22.49it/s, loss: 0.0016]\u001b[A\n",
            "Epoch 6:  34%|███▍      | 43/125 [00:01<00:03, 22.49it/s, loss: 0.0016]\u001b[A\n",
            "Epoch 6:  35%|███▌      | 44/125 [00:01<00:03, 22.49it/s, loss: 0.0016]\u001b[A\n",
            "Epoch 6:  36%|███▌      | 45/125 [00:01<00:03, 22.88it/s, loss: 0.0016]\u001b[A\n",
            "Epoch 6:  36%|███▌      | 45/125 [00:01<00:03, 22.88it/s, loss: 0.0016]\u001b[A\n",
            "Epoch 6:  37%|███▋      | 46/125 [00:02<00:03, 22.88it/s, loss: 0.0016]\u001b[A\n",
            "Epoch 6:  38%|███▊      | 47/125 [00:02<00:03, 22.88it/s, loss: 0.0016]\u001b[A\n",
            "Epoch 6:  38%|███▊      | 48/125 [00:02<00:03, 23.05it/s, loss: 0.0016]\u001b[A\n",
            "Epoch 6:  38%|███▊      | 48/125 [00:02<00:03, 23.05it/s, loss: 0.0016]\u001b[A\n",
            "Epoch 6:  39%|███▉      | 49/125 [00:02<00:03, 23.05it/s, loss: 0.0016]\u001b[A\n",
            "Epoch 6:  40%|████      | 50/125 [00:02<00:03, 23.05it/s, loss: 0.0016]\u001b[A\n",
            "Epoch 6:  41%|████      | 51/125 [00:02<00:03, 23.08it/s, loss: 0.0016]\u001b[A\n",
            "Epoch 6:  41%|████      | 51/125 [00:02<00:03, 23.08it/s, loss: 0.0016]\u001b[A\n",
            "Epoch 6:  42%|████▏     | 52/125 [00:02<00:03, 23.08it/s, loss: 0.0016]\u001b[A\n",
            "Epoch 6:  42%|████▏     | 53/125 [00:02<00:03, 23.08it/s, loss: 0.0016]\u001b[A\n",
            "Epoch 6:  43%|████▎     | 54/125 [00:02<00:03, 23.19it/s, loss: 0.0016]\u001b[A\n",
            "Epoch 6:  43%|████▎     | 54/125 [00:02<00:03, 23.19it/s, loss: 0.0016]\u001b[A\n",
            "Epoch 6:  44%|████▍     | 55/125 [00:02<00:03, 23.19it/s, loss: 0.0016]\u001b[A\n",
            "Epoch 6:  45%|████▍     | 56/125 [00:02<00:02, 23.19it/s, loss: 0.0016]\u001b[A\n",
            "Epoch 6:  46%|████▌     | 57/125 [00:02<00:02, 23.42it/s, loss: 0.0016]\u001b[A\n",
            "Epoch 6:  46%|████▌     | 57/125 [00:02<00:02, 23.42it/s, loss: 0.0016]\u001b[A\n",
            "Epoch 6:  46%|████▋     | 58/125 [00:02<00:02, 23.42it/s, loss: 0.0016]\u001b[A\n",
            "Epoch 6:  47%|████▋     | 59/125 [00:02<00:02, 23.42it/s, loss: 0.0016]\u001b[A\n",
            "Epoch 6:  48%|████▊     | 60/125 [00:02<00:02, 23.50it/s, loss: 0.0016]\u001b[A\n",
            "Epoch 6:  48%|████▊     | 60/125 [00:02<00:02, 23.50it/s, loss: 0.0016]\u001b[A\n",
            "Epoch 6:  49%|████▉     | 61/125 [00:02<00:02, 23.50it/s, loss: 0.0016]\u001b[A\n",
            "Epoch 6:  50%|████▉     | 62/125 [00:02<00:02, 23.50it/s, loss: 0.0016]\u001b[A\n",
            "Epoch 6:  50%|█████     | 63/125 [00:02<00:02, 23.40it/s, loss: 0.0016]\u001b[A\n",
            "Epoch 6:  50%|█████     | 63/125 [00:02<00:02, 23.40it/s, loss: 0.0016]\u001b[A\n",
            "Epoch 6:  51%|█████     | 64/125 [00:02<00:02, 23.40it/s, loss: 0.0016]\u001b[A\n",
            "Epoch 6:  52%|█████▏    | 65/125 [00:02<00:02, 23.40it/s, loss: 0.0016]\u001b[A\n",
            "Epoch 6:  53%|█████▎    | 66/125 [00:02<00:02, 23.29it/s, loss: 0.0016]\u001b[A\n",
            "Epoch 6:  53%|█████▎    | 66/125 [00:02<00:02, 23.29it/s, loss: 0.0016]\u001b[A\n",
            "Epoch 6:  54%|█████▎    | 67/125 [00:02<00:02, 23.29it/s, loss: 0.0016]\u001b[A\n",
            "Epoch 6:  54%|█████▍    | 68/125 [00:02<00:02, 23.29it/s, loss: 0.0016]\u001b[A\n",
            "Epoch 6:  55%|█████▌    | 69/125 [00:02<00:02, 23.46it/s, loss: 0.0016]\u001b[A\n",
            "Epoch 6:  55%|█████▌    | 69/125 [00:03<00:02, 23.46it/s, loss: 0.0016]\u001b[A\n",
            "Epoch 6:  56%|█████▌    | 70/125 [00:03<00:02, 23.46it/s, loss: 0.0016]\u001b[A\n",
            "Epoch 6:  57%|█████▋    | 71/125 [00:03<00:02, 23.46it/s, loss: 0.0016]\u001b[A\n",
            "Epoch 6:  58%|█████▊    | 72/125 [00:03<00:02, 23.50it/s, loss: 0.0016]\u001b[A\n",
            "Epoch 6:  58%|█████▊    | 72/125 [00:03<00:02, 23.50it/s, loss: 0.0016]\u001b[A\n",
            "Epoch 6:  58%|█████▊    | 73/125 [00:03<00:02, 23.50it/s, loss: 0.0016]\u001b[A\n",
            "Epoch 6:  59%|█████▉    | 74/125 [00:03<00:02, 23.50it/s, loss: 0.0016]\u001b[A\n",
            "Epoch 6:  60%|██████    | 75/125 [00:03<00:02, 23.36it/s, loss: 0.0016]\u001b[A\n",
            "Epoch 6:  60%|██████    | 75/125 [00:03<00:02, 23.36it/s, loss: 0.0016]\u001b[A\n",
            "Epoch 6:  61%|██████    | 76/125 [00:03<00:02, 23.36it/s, loss: 0.0016]\u001b[A\n",
            "Epoch 6:  62%|██████▏   | 77/125 [00:03<00:02, 23.36it/s, loss: 0.0016]\u001b[A\n",
            "Epoch 6:  62%|██████▏   | 78/125 [00:03<00:01, 23.55it/s, loss: 0.0016]\u001b[A\n",
            "Epoch 6:  62%|██████▏   | 78/125 [00:03<00:01, 23.55it/s, loss: 0.0016]\u001b[A\n",
            "Epoch 6:  63%|██████▎   | 79/125 [00:03<00:01, 23.55it/s, loss: 0.0016]\u001b[A\n",
            "Epoch 6:  64%|██████▍   | 80/125 [00:03<00:01, 23.55it/s, loss: 0.0016]\u001b[A\n",
            "Epoch 6:  65%|██████▍   | 81/125 [00:03<00:01, 23.38it/s, loss: 0.0016]\u001b[A\n",
            "Epoch 6:  65%|██████▍   | 81/125 [00:03<00:01, 23.38it/s, loss: 0.0016]\u001b[A\n",
            "Epoch 6:  66%|██████▌   | 82/125 [00:03<00:01, 23.38it/s, loss: 0.0016]\u001b[A\n",
            "Epoch 6:  66%|██████▋   | 83/125 [00:03<00:01, 23.38it/s, loss: 0.0016]\u001b[A\n",
            "Epoch 6:  67%|██████▋   | 84/125 [00:03<00:01, 22.96it/s, loss: 0.0016]\u001b[A\n",
            "Epoch 6:  67%|██████▋   | 84/125 [00:03<00:01, 22.96it/s, loss: 0.0016]\u001b[A\n",
            "Epoch 6:  68%|██████▊   | 85/125 [00:03<00:01, 22.96it/s, loss: 0.0016]\u001b[A\n",
            "Epoch 6:  69%|██████▉   | 86/125 [00:03<00:01, 22.96it/s, loss: 0.0016]\u001b[A\n",
            "Epoch 6:  70%|██████▉   | 87/125 [00:03<00:01, 22.86it/s, loss: 0.0016]\u001b[A\n",
            "Epoch 6:  70%|██████▉   | 87/125 [00:03<00:01, 22.86it/s, loss: 0.0016]\u001b[A\n",
            "Epoch 6:  70%|███████   | 88/125 [00:03<00:01, 22.86it/s, loss: 0.0016]\u001b[A\n",
            "Epoch 6:  71%|███████   | 89/125 [00:03<00:01, 22.86it/s, loss: 0.0016]\u001b[A\n",
            "Epoch 6:  72%|███████▏  | 90/125 [00:03<00:01, 22.84it/s, loss: 0.0016]\u001b[A\n",
            "Epoch 6:  72%|███████▏  | 90/125 [00:03<00:01, 22.84it/s, loss: 0.0016]\u001b[A\n",
            "Epoch 6:  73%|███████▎  | 91/125 [00:03<00:01, 22.84it/s, loss: 0.0016]\u001b[A\n",
            "Epoch 6:  74%|███████▎  | 92/125 [00:04<00:01, 22.84it/s, loss: 0.0016]\u001b[A\n",
            "Epoch 6:  74%|███████▍  | 93/125 [00:04<00:01, 23.08it/s, loss: 0.0016]\u001b[A\n",
            "Epoch 6:  74%|███████▍  | 93/125 [00:04<00:01, 23.08it/s, loss: 0.0016]\u001b[A\n",
            "Epoch 6:  75%|███████▌  | 94/125 [00:04<00:01, 23.08it/s, loss: 0.0016]\u001b[A\n",
            "Epoch 6:  76%|███████▌  | 95/125 [00:04<00:01, 23.08it/s, loss: 0.0016]\u001b[A\n",
            "Epoch 6:  77%|███████▋  | 96/125 [00:04<00:01, 23.21it/s, loss: 0.0016]\u001b[A\n",
            "Epoch 6:  77%|███████▋  | 96/125 [00:04<00:01, 23.21it/s, loss: 0.0016]\u001b[A\n",
            "Epoch 6:  78%|███████▊  | 97/125 [00:04<00:01, 23.21it/s, loss: 0.0016]\u001b[A\n",
            "Epoch 6:  78%|███████▊  | 98/125 [00:04<00:01, 23.21it/s, loss: 0.0016]\u001b[A\n",
            "Epoch 6:  79%|███████▉  | 99/125 [00:04<00:01, 23.10it/s, loss: 0.0016]\u001b[A\n",
            "Epoch 6:  79%|███████▉  | 99/125 [00:04<00:01, 23.10it/s, loss: 0.0016]\u001b[A\n",
            "Epoch 6:  80%|████████  | 100/125 [00:04<00:01, 23.10it/s, loss: 0.0016]\u001b[A\n",
            "Epoch 6:  81%|████████  | 101/125 [00:04<00:01, 23.10it/s, loss: 0.0016]\u001b[A\n",
            "Epoch 6:  82%|████████▏ | 102/125 [00:04<00:00, 23.16it/s, loss: 0.0016]\u001b[A\n",
            "Epoch 6:  82%|████████▏ | 102/125 [00:04<00:00, 23.16it/s, loss: 0.0016]\u001b[A\n",
            "Epoch 6:  82%|████████▏ | 103/125 [00:04<00:00, 23.16it/s, loss: 0.0016]\u001b[A\n",
            "Epoch 6:  83%|████████▎ | 104/125 [00:04<00:00, 23.16it/s, loss: 0.0016]\u001b[A\n",
            "Epoch 6:  84%|████████▍ | 105/125 [00:04<00:00, 23.11it/s, loss: 0.0016]\u001b[A\n",
            "Epoch 6:  84%|████████▍ | 105/125 [00:04<00:00, 23.11it/s, loss: 0.0016]\u001b[A\n",
            "Epoch 6:  85%|████████▍ | 106/125 [00:04<00:00, 23.11it/s, loss: 0.0016]\u001b[A\n",
            "Epoch 6:  86%|████████▌ | 107/125 [00:04<00:00, 23.11it/s, loss: 0.0016]\u001b[A\n",
            "Epoch 6:  86%|████████▋ | 108/125 [00:04<00:00, 22.83it/s, loss: 0.0016]\u001b[A\n",
            "Epoch 6:  86%|████████▋ | 108/125 [00:04<00:00, 22.83it/s, loss: 0.0016]\u001b[A\n",
            "Epoch 6:  87%|████████▋ | 109/125 [00:04<00:00, 22.83it/s, loss: 0.0016]\u001b[A\n",
            "Epoch 6:  88%|████████▊ | 110/125 [00:04<00:00, 22.83it/s, loss: 0.0016]\u001b[A\n",
            "Epoch 6:  89%|████████▉ | 111/125 [00:04<00:00, 22.53it/s, loss: 0.0016]\u001b[A\n",
            "Epoch 6:  89%|████████▉ | 111/125 [00:04<00:00, 22.53it/s, loss: 0.0016]\u001b[A\n",
            "Epoch 6:  90%|████████▉ | 112/125 [00:04<00:00, 22.53it/s, loss: 0.0016]\u001b[A\n",
            "Epoch 6:  90%|█████████ | 113/125 [00:04<00:00, 22.53it/s, loss: 0.0016]\u001b[A\n",
            "Epoch 6:  91%|█████████ | 114/125 [00:04<00:00, 22.88it/s, loss: 0.0016]\u001b[A\n",
            "Epoch 6:  91%|█████████ | 114/125 [00:04<00:00, 22.88it/s, loss: 0.0015]\u001b[A\n",
            "Epoch 6:  92%|█████████▏| 115/125 [00:05<00:00, 22.88it/s, loss: 0.0015]\u001b[A\n",
            "Epoch 6:  93%|█████████▎| 116/125 [00:05<00:00, 22.88it/s, loss: 0.0015]\u001b[A\n",
            "Epoch 6:  94%|█████████▎| 117/125 [00:05<00:00, 23.11it/s, loss: 0.0015]\u001b[A\n",
            "Epoch 6:  94%|█████████▎| 117/125 [00:05<00:00, 23.11it/s, loss: 0.0015]\u001b[A\n",
            "Epoch 6:  94%|█████████▍| 118/125 [00:05<00:00, 23.11it/s, loss: 0.0015]\u001b[A\n",
            "Epoch 6:  95%|█████████▌| 119/125 [00:05<00:00, 23.11it/s, loss: 0.0015]\u001b[A\n",
            "Epoch 6:  96%|█████████▌| 120/125 [00:05<00:00, 23.28it/s, loss: 0.0015]\u001b[A\n",
            "Epoch 6:  96%|█████████▌| 120/125 [00:05<00:00, 23.28it/s, loss: 0.0015]\u001b[A\n",
            "Epoch 6:  97%|█████████▋| 121/125 [00:05<00:00, 23.28it/s, loss: 0.0015]\u001b[A\n",
            "Epoch 6:  98%|█████████▊| 122/125 [00:05<00:00, 23.28it/s, loss: 0.0016]\u001b[A\n",
            "Epoch 6:  98%|█████████▊| 123/125 [00:05<00:00, 23.08it/s, loss: 0.0016]\u001b[A\n",
            "Epoch 6:  98%|█████████▊| 123/125 [00:05<00:00, 23.08it/s, loss: 0.0016]\u001b[A\n",
            "Epoch 6: 100%|██████████| 125/125 [00:05<00:00, 22.85it/s, loss: 0.0016]\n",
            "Epoch 7:  99%|█████████▉| 124/125 [00:05<00:00, 23.94it/s, loss: 0.0015]\n",
            "  0%|          | 0/125 [00:00<?, ?it/s]\u001b[A\n",
            "Epoch 8:   0%|          | 0/125 [00:00<?, ?it/s]\u001b[A\n",
            "Epoch 8:   0%|          | 0/125 [00:00<?, ?it/s, loss: 0.0016]\u001b[A\n",
            "Epoch 8:   1%|          | 1/125 [00:00<00:10, 11.66it/s, loss: 0.0017]\u001b[A\n",
            "Epoch 8:   2%|▏         | 2/125 [00:00<00:07, 15.51it/s, loss: 0.0015]\u001b[A\n",
            "Epoch 8:   2%|▏         | 3/125 [00:00<00:05, 22.88it/s, loss: 0.0015]\u001b[A\n",
            "Epoch 7: 100%|██████████| 125/125 [00:05<00:00, 23.57it/s, loss: 0.0015]\n",
            "\n",
            "Epoch 8:   3%|▎         | 4/125 [00:00<00:05, 22.88it/s, loss: 0.0015]\u001b[A\n",
            "Epoch 8:   4%|▍         | 5/125 [00:00<00:05, 22.88it/s, loss: 0.0015]\u001b[A\n",
            "Epoch 8:   5%|▍         | 6/125 [00:00<00:05, 22.42it/s, loss: 0.0015]\u001b[A\n",
            "Epoch 8:   5%|▍         | 6/125 [00:00<00:05, 22.42it/s, loss: 0.0015]\u001b[A\n",
            "Epoch 8:   6%|▌         | 7/125 [00:00<00:05, 22.42it/s, loss: 0.0016]\u001b[A\n",
            "Epoch 8:   6%|▋         | 8/125 [00:00<00:05, 22.42it/s, loss: 0.0016]\u001b[A\n",
            "Epoch 8:   7%|▋         | 9/125 [00:00<00:05, 22.57it/s, loss: 0.0016]\u001b[A\n",
            "Epoch 8:   7%|▋         | 9/125 [00:00<00:05, 22.57it/s, loss: 0.0015]\u001b[A\n",
            "Epoch 8:   8%|▊         | 10/125 [00:00<00:05, 22.57it/s, loss: 0.0015]\u001b[A\n",
            "Epoch 8:   9%|▉         | 11/125 [00:00<00:05, 22.57it/s, loss: 0.0015]\u001b[A\n",
            "Epoch 8:  10%|▉         | 12/125 [00:00<00:05, 22.00it/s, loss: 0.0015]\u001b[A\n",
            "Epoch 8:  10%|▉         | 12/125 [00:00<00:05, 22.00it/s, loss: 0.0015]\u001b[A\n",
            "Epoch 8:  10%|█         | 13/125 [00:00<00:05, 22.00it/s, loss: 0.0015]\u001b[A\n",
            "Epoch 8:  11%|█         | 14/125 [00:00<00:05, 22.00it/s, loss: 0.0015]\u001b[A\n",
            "Epoch 8:  12%|█▏        | 15/125 [00:00<00:05, 21.92it/s, loss: 0.0015]\u001b[A\n",
            "Epoch 8:  12%|█▏        | 15/125 [00:00<00:05, 21.92it/s, loss: 0.0015]\u001b[A\n",
            "Epoch 8:  13%|█▎        | 16/125 [00:00<00:04, 21.92it/s, loss: 0.0015]\u001b[A\n",
            "Epoch 8:  14%|█▎        | 17/125 [00:00<00:04, 21.92it/s, loss: 0.0015]\u001b[A\n",
            "Epoch 8:  14%|█▍        | 18/125 [00:00<00:04, 22.08it/s, loss: 0.0015]\u001b[A\n",
            "Epoch 8:  14%|█▍        | 18/125 [00:00<00:04, 22.08it/s, loss: 0.0015]\u001b[A\n",
            "Epoch 8:  15%|█▌        | 19/125 [00:00<00:04, 22.08it/s, loss: 0.0015]\u001b[A\n",
            "Epoch 8:  16%|█▌        | 20/125 [00:00<00:04, 22.08it/s, loss: 0.0015]\u001b[A\n",
            "Epoch 8:  17%|█▋        | 21/125 [00:00<00:04, 22.04it/s, loss: 0.0015]\u001b[A\n",
            "Epoch 8:  17%|█▋        | 21/125 [00:00<00:04, 22.04it/s, loss: 0.0015]\u001b[A\n",
            "Epoch 8:  18%|█▊        | 22/125 [00:01<00:04, 22.04it/s, loss: 0.0015]\u001b[A\n",
            "Epoch 8:  18%|█▊        | 23/125 [00:01<00:04, 22.04it/s, loss: 0.0015]\u001b[A\n",
            "Epoch 8:  19%|█▉        | 24/125 [00:01<00:04, 21.99it/s, loss: 0.0015]\u001b[A\n",
            "Epoch 8:  19%|█▉        | 24/125 [00:01<00:04, 21.99it/s, loss: 0.0015]\u001b[A\n",
            "Epoch 8:  20%|██        | 25/125 [00:01<00:04, 21.99it/s, loss: 0.0015]\u001b[A\n",
            "Epoch 8:  21%|██        | 26/125 [00:01<00:04, 21.99it/s, loss: 0.0015]\u001b[A\n",
            "Epoch 8:  22%|██▏       | 27/125 [00:01<00:04, 22.16it/s, loss: 0.0015]\u001b[A\n",
            "Epoch 8:  22%|██▏       | 27/125 [00:01<00:04, 22.16it/s, loss: 0.0015]\u001b[A\n",
            "Epoch 8:  22%|██▏       | 28/125 [00:01<00:04, 22.16it/s, loss: 0.0015]\u001b[A\n",
            "Epoch 8:  23%|██▎       | 29/125 [00:01<00:04, 22.16it/s, loss: 0.0015]\u001b[A\n",
            "Epoch 8:  24%|██▍       | 30/125 [00:01<00:04, 22.07it/s, loss: 0.0015]\u001b[A\n",
            "Epoch 8:  24%|██▍       | 30/125 [00:01<00:04, 22.07it/s, loss: 0.0016]\u001b[A\n",
            "Epoch 8:  25%|██▍       | 31/125 [00:01<00:04, 22.07it/s, loss: 0.0015]\u001b[A\n",
            "Epoch 8:  26%|██▌       | 32/125 [00:01<00:04, 22.07it/s, loss: 0.0015]\u001b[A\n",
            "Epoch 8:  26%|██▋       | 33/125 [00:01<00:04, 21.68it/s, loss: 0.0015]\u001b[A\n",
            "Epoch 8:  26%|██▋       | 33/125 [00:01<00:04, 21.68it/s, loss: 0.0015]\u001b[A\n",
            "Epoch 8:  27%|██▋       | 34/125 [00:01<00:04, 21.68it/s, loss: 0.0015]\u001b[A\n",
            "Epoch 8:  28%|██▊       | 35/125 [00:01<00:04, 21.68it/s, loss: 0.0015]\u001b[A\n",
            "Epoch 8:  29%|██▉       | 36/125 [00:01<00:04, 21.69it/s, loss: 0.0015]\u001b[A\n",
            "Epoch 8:  29%|██▉       | 36/125 [00:01<00:04, 21.69it/s, loss: 0.0015]\u001b[A\n",
            "Epoch 8:  30%|██▉       | 37/125 [00:01<00:04, 21.69it/s, loss: 0.0015]\u001b[A\n",
            "Epoch 8:  30%|███       | 38/125 [00:01<00:04, 21.69it/s, loss: 0.0015]\u001b[A\n",
            "Epoch 8:  31%|███       | 39/125 [00:01<00:03, 22.06it/s, loss: 0.0015]\u001b[A\n",
            "Epoch 8:  31%|███       | 39/125 [00:01<00:03, 22.06it/s, loss: 0.0015]\u001b[A\n",
            "Epoch 8:  32%|███▏      | 40/125 [00:01<00:03, 22.06it/s, loss: 0.0015]\u001b[A\n",
            "Epoch 8:  33%|███▎      | 41/125 [00:01<00:03, 22.06it/s, loss: 0.0015]\u001b[A\n",
            "Epoch 8:  34%|███▎      | 42/125 [00:01<00:03, 22.38it/s, loss: 0.0015]\u001b[A\n",
            "Epoch 8:  34%|███▎      | 42/125 [00:01<00:03, 22.38it/s, loss: 0.0015]\u001b[A\n",
            "Epoch 8:  34%|███▍      | 43/125 [00:01<00:03, 22.38it/s, loss: 0.0015]\u001b[A\n",
            "Epoch 8:  35%|███▌      | 44/125 [00:02<00:03, 22.38it/s, loss: 0.0015]\u001b[A\n",
            "Epoch 8:  36%|███▌      | 45/125 [00:02<00:03, 22.60it/s, loss: 0.0015]\u001b[A\n",
            "Epoch 8:  36%|███▌      | 45/125 [00:02<00:03, 22.60it/s, loss: 0.0015]\u001b[A\n",
            "Epoch 8:  37%|███▋      | 46/125 [00:02<00:03, 22.60it/s, loss: 0.0015]\u001b[A\n",
            "Epoch 8:  38%|███▊      | 47/125 [00:02<00:03, 22.60it/s, loss: 0.0015]\u001b[A\n",
            "Epoch 8:  38%|███▊      | 48/125 [00:02<00:03, 22.40it/s, loss: 0.0015]\u001b[A\n",
            "Epoch 8:  38%|███▊      | 48/125 [00:02<00:03, 22.40it/s, loss: 0.0015]\u001b[A\n",
            "Epoch 8:  39%|███▉      | 49/125 [00:02<00:03, 22.40it/s, loss: 0.0015]\u001b[A\n",
            "Epoch 8:  40%|████      | 50/125 [00:02<00:03, 22.40it/s, loss: 0.0015]\u001b[A\n",
            "Epoch 8:  41%|████      | 51/125 [00:02<00:03, 22.16it/s, loss: 0.0015]\u001b[A\n",
            "Epoch 8:  41%|████      | 51/125 [00:02<00:03, 22.16it/s, loss: 0.0015]\u001b[A\n",
            "Epoch 8:  42%|████▏     | 52/125 [00:02<00:03, 22.16it/s, loss: 0.0015]\u001b[A\n",
            "Epoch 8:  42%|████▏     | 53/125 [00:02<00:03, 22.16it/s, loss: 0.0015]\u001b[A\n",
            "Epoch 8:  43%|████▎     | 54/125 [00:02<00:03, 22.02it/s, loss: 0.0015]\u001b[A\n",
            "Epoch 8:  43%|████▎     | 54/125 [00:02<00:03, 22.02it/s, loss: 0.0015]\u001b[A\n",
            "Epoch 8:  44%|████▍     | 55/125 [00:02<00:03, 22.02it/s, loss: 0.0015]\u001b[A\n",
            "Epoch 8:  45%|████▍     | 56/125 [00:02<00:03, 22.02it/s, loss: 0.0015]\u001b[A\n",
            "Epoch 8:  46%|████▌     | 57/125 [00:02<00:03, 22.41it/s, loss: 0.0015]\u001b[A\n",
            "Epoch 8:  46%|████▌     | 57/125 [00:02<00:03, 22.41it/s, loss: 0.0015]\u001b[A\n",
            "Epoch 8:  46%|████▋     | 58/125 [00:02<00:02, 22.41it/s, loss: 0.0015]\u001b[A\n",
            "Epoch 8:  47%|████▋     | 59/125 [00:02<00:02, 22.41it/s, loss: 0.0015]\u001b[A\n",
            "Epoch 8:  48%|████▊     | 60/125 [00:02<00:02, 22.71it/s, loss: 0.0015]\u001b[A\n",
            "Epoch 8:  48%|████▊     | 60/125 [00:02<00:02, 22.71it/s, loss: 0.0015]\u001b[A\n",
            "Epoch 8:  49%|████▉     | 61/125 [00:02<00:02, 22.71it/s, loss: 0.0015]\u001b[A\n",
            "Epoch 8:  50%|████▉     | 62/125 [00:02<00:02, 22.71it/s, loss: 0.0015]\u001b[A\n",
            "Epoch 8:  50%|█████     | 63/125 [00:02<00:02, 22.57it/s, loss: 0.0015]\u001b[A\n",
            "Epoch 8:  50%|█████     | 63/125 [00:02<00:02, 22.57it/s, loss: 0.0015]\u001b[A\n",
            "Epoch 8:  51%|█████     | 64/125 [00:02<00:02, 22.57it/s, loss: 0.0015]\u001b[A\n",
            "Epoch 8:  52%|█████▏    | 65/125 [00:02<00:02, 22.57it/s, loss: 0.0015]\u001b[A\n",
            "Epoch 8:  53%|█████▎    | 66/125 [00:02<00:02, 22.79it/s, loss: 0.0015]\u001b[A\n",
            "Epoch 8:  53%|█████▎    | 66/125 [00:03<00:02, 22.79it/s, loss: 0.0015]\u001b[A\n",
            "Epoch 8:  54%|█████▎    | 67/125 [00:03<00:02, 22.79it/s, loss: 0.0015]\u001b[A\n",
            "Epoch 8:  54%|█████▍    | 68/125 [00:03<00:02, 22.79it/s, loss: 0.0015]\u001b[A\n",
            "Epoch 8:  55%|█████▌    | 69/125 [00:03<00:02, 22.71it/s, loss: 0.0015]\u001b[A\n",
            "Epoch 8:  55%|█████▌    | 69/125 [00:03<00:02, 22.71it/s, loss: 0.0015]\u001b[A\n",
            "Epoch 8:  56%|█████▌    | 70/125 [00:03<00:02, 22.71it/s, loss: 0.0015]\u001b[A\n",
            "Epoch 8:  57%|█████▋    | 71/125 [00:03<00:02, 22.71it/s, loss: 0.0015]\u001b[A\n",
            "Epoch 8:  58%|█████▊    | 72/125 [00:03<00:02, 22.76it/s, loss: 0.0015]\u001b[A\n",
            "Epoch 8:  58%|█████▊    | 72/125 [00:03<00:02, 22.76it/s, loss: 0.0015]\u001b[A\n",
            "Epoch 8:  58%|█████▊    | 73/125 [00:03<00:02, 22.76it/s, loss: 0.0015]\u001b[A\n",
            "Epoch 8:  59%|█████▉    | 74/125 [00:03<00:02, 22.76it/s, loss: 0.0015]\u001b[A\n",
            "Epoch 8:  60%|██████    | 75/125 [00:03<00:02, 22.83it/s, loss: 0.0015]\u001b[A\n",
            "Epoch 8:  60%|██████    | 75/125 [00:03<00:02, 22.83it/s, loss: 0.0015]\u001b[A\n",
            "Epoch 8:  61%|██████    | 76/125 [00:03<00:02, 22.83it/s, loss: 0.0015]\u001b[A\n",
            "Epoch 8:  62%|██████▏   | 77/125 [00:03<00:02, 22.83it/s, loss: 0.0015]\u001b[A\n",
            "Epoch 8:  62%|██████▏   | 78/125 [00:03<00:02, 22.81it/s, loss: 0.0015]\u001b[A\n",
            "Epoch 8:  62%|██████▏   | 78/125 [00:03<00:02, 22.81it/s, loss: 0.0015]\u001b[A\n",
            "Epoch 8:  63%|██████▎   | 79/125 [00:03<00:02, 22.81it/s, loss: 0.0015]\u001b[A\n",
            "Epoch 8:  64%|██████▍   | 80/125 [00:03<00:01, 22.81it/s, loss: 0.0015]\u001b[A\n",
            "Epoch 8:  65%|██████▍   | 81/125 [00:03<00:01, 22.88it/s, loss: 0.0015]\u001b[A\n",
            "Epoch 8:  65%|██████▍   | 81/125 [00:03<00:01, 22.88it/s, loss: 0.0015]\u001b[A\n",
            "Epoch 8:  66%|██████▌   | 82/125 [00:03<00:01, 22.88it/s, loss: 0.0015]\u001b[A\n",
            "Epoch 8:  66%|██████▋   | 83/125 [00:03<00:01, 22.88it/s, loss: 0.0015]\u001b[A\n",
            "Epoch 8:  67%|██████▋   | 84/125 [00:03<00:01, 22.96it/s, loss: 0.0015]\u001b[A\n",
            "Epoch 8:  67%|██████▋   | 84/125 [00:03<00:01, 22.96it/s, loss: 0.0015]\u001b[A\n",
            "Epoch 8:  68%|██████▊   | 85/125 [00:03<00:01, 22.96it/s, loss: 0.0015]\u001b[A\n",
            "Epoch 8:  69%|██████▉   | 86/125 [00:03<00:01, 22.96it/s, loss: 0.0015]\u001b[A\n",
            "Epoch 8:  70%|██████▉   | 87/125 [00:03<00:01, 23.16it/s, loss: 0.0015]\u001b[A\n",
            "Epoch 8:  70%|██████▉   | 87/125 [00:03<00:01, 23.16it/s, loss: 0.0015]\u001b[A\n",
            "Epoch 8:  70%|███████   | 88/125 [00:03<00:01, 23.16it/s, loss: 0.0015]\u001b[A\n",
            "Epoch 8:  71%|███████   | 89/125 [00:03<00:01, 23.16it/s, loss: 0.0015]\u001b[A\n",
            "Epoch 8:  72%|███████▏  | 90/125 [00:03<00:01, 23.44it/s, loss: 0.0015]\u001b[A\n",
            "Epoch 8:  72%|███████▏  | 90/125 [00:04<00:01, 23.44it/s, loss: 0.0015]\u001b[A\n",
            "Epoch 8:  73%|███████▎  | 91/125 [00:04<00:01, 23.44it/s, loss: 0.0015]\u001b[A\n",
            "Epoch 8:  74%|███████▎  | 92/125 [00:04<00:01, 23.44it/s, loss: 0.0015]\u001b[A\n",
            "Epoch 8:  74%|███████▍  | 93/125 [00:04<00:01, 22.87it/s, loss: 0.0015]\u001b[A\n",
            "Epoch 8:  74%|███████▍  | 93/125 [00:04<00:01, 22.87it/s, loss: 0.0015]\u001b[A\n",
            "Epoch 8:  75%|███████▌  | 94/125 [00:04<00:01, 22.87it/s, loss: 0.0015]\u001b[A\n",
            "Epoch 8:  76%|███████▌  | 95/125 [00:04<00:01, 22.87it/s, loss: 0.0015]\u001b[A\n",
            "Epoch 8:  77%|███████▋  | 96/125 [00:04<00:01, 22.86it/s, loss: 0.0015]\u001b[A\n",
            "Epoch 8:  77%|███████▋  | 96/125 [00:04<00:01, 22.86it/s, loss: 0.0015]\u001b[A\n",
            "Epoch 8:  78%|███████▊  | 97/125 [00:04<00:01, 22.86it/s, loss: 0.0015]\u001b[A\n",
            "Epoch 8:  78%|███████▊  | 98/125 [00:04<00:01, 22.86it/s, loss: 0.0015]\u001b[A\n",
            "Epoch 8:  79%|███████▉  | 99/125 [00:04<00:01, 22.58it/s, loss: 0.0015]\u001b[A\n",
            "Epoch 8:  79%|███████▉  | 99/125 [00:04<00:01, 22.58it/s, loss: 0.0015]\u001b[A\n",
            "Epoch 8:  80%|████████  | 100/125 [00:04<00:01, 22.58it/s, loss: 0.0015]\u001b[A\n",
            "Epoch 8:  81%|████████  | 101/125 [00:04<00:01, 22.58it/s, loss: 0.0015]\u001b[A\n",
            "Epoch 8:  82%|████████▏ | 102/125 [00:04<00:01, 22.71it/s, loss: 0.0015]\u001b[A\n",
            "Epoch 8:  82%|████████▏ | 102/125 [00:04<00:01, 22.71it/s, loss: 0.0015]\u001b[A\n",
            "Epoch 8:  82%|████████▏ | 103/125 [00:04<00:00, 22.71it/s, loss: 0.0015]\u001b[A\n",
            "Epoch 8:  83%|████████▎ | 104/125 [00:04<00:00, 22.71it/s, loss: 0.0015]\u001b[A\n",
            "Epoch 8:  84%|████████▍ | 105/125 [00:04<00:00, 22.92it/s, loss: 0.0015]\u001b[A\n",
            "Epoch 8:  84%|████████▍ | 105/125 [00:04<00:00, 22.92it/s, loss: 0.0015]\u001b[A\n",
            "Epoch 8:  85%|████████▍ | 106/125 [00:04<00:00, 22.92it/s, loss: 0.0015]\u001b[A\n",
            "Epoch 8:  86%|████████▌ | 107/125 [00:04<00:00, 22.92it/s, loss: 0.0015]\u001b[A\n",
            "Epoch 8:  86%|████████▋ | 108/125 [00:04<00:00, 23.24it/s, loss: 0.0015]\u001b[A\n",
            "Epoch 8:  86%|████████▋ | 108/125 [00:04<00:00, 23.24it/s, loss: 0.0015]\u001b[A\n",
            "Epoch 8:  87%|████████▋ | 109/125 [00:04<00:00, 23.24it/s, loss: 0.0015]\u001b[A\n",
            "Epoch 8:  88%|████████▊ | 110/125 [00:04<00:00, 23.24it/s, loss: 0.0015]\u001b[A\n",
            "Epoch 8:  89%|████████▉ | 111/125 [00:04<00:00, 23.25it/s, loss: 0.0015]\u001b[A\n",
            "Epoch 8:  89%|████████▉ | 111/125 [00:04<00:00, 23.25it/s, loss: 0.0015]\u001b[A\n",
            "Epoch 8:  90%|████████▉ | 112/125 [00:05<00:00, 23.25it/s, loss: 0.0015]\u001b[A\n",
            "Epoch 8:  90%|█████████ | 113/125 [00:05<00:00, 23.25it/s, loss: 0.0015]\u001b[A\n",
            "Epoch 8:  91%|█████████ | 114/125 [00:05<00:00, 23.35it/s, loss: 0.0015]\u001b[A\n",
            "Epoch 8:  91%|█████████ | 114/125 [00:05<00:00, 23.35it/s, loss: 0.0015]\u001b[A\n",
            "Epoch 8:  92%|█████████▏| 115/125 [00:05<00:00, 23.35it/s, loss: 0.0015]\u001b[A\n",
            "Epoch 8:  93%|█████████▎| 116/125 [00:05<00:00, 23.35it/s, loss: 0.0015]\u001b[A\n",
            "Epoch 8:  94%|█████████▎| 117/125 [00:05<00:00, 23.15it/s, loss: 0.0015]\u001b[A\n",
            "Epoch 8:  94%|█████████▎| 117/125 [00:05<00:00, 23.15it/s, loss: 0.0015]\u001b[A\n",
            "Epoch 8:  94%|█████████▍| 118/125 [00:05<00:00, 23.15it/s, loss: 0.0015]\u001b[A\n",
            "Epoch 8:  95%|█████████▌| 119/125 [00:05<00:00, 23.15it/s, loss: 0.0015]\u001b[A\n",
            "Epoch 8:  96%|█████████▌| 120/125 [00:05<00:00, 23.03it/s, loss: 0.0015]\u001b[A\n",
            "Epoch 8:  96%|█████████▌| 120/125 [00:05<00:00, 23.03it/s, loss: 0.0015]\u001b[A\n",
            "Epoch 8:  97%|█████████▋| 121/125 [00:05<00:00, 23.03it/s, loss: 0.0015]\u001b[A\n",
            "Epoch 8:  98%|█████████▊| 122/125 [00:05<00:00, 23.03it/s, loss: 0.0015]\u001b[A\n",
            "Epoch 8:  98%|█████████▊| 123/125 [00:05<00:00, 23.20it/s, loss: 0.0015]\u001b[A\n",
            "Epoch 8:  98%|█████████▊| 123/125 [00:05<00:00, 23.20it/s, loss: 0.0015]\u001b[A\n",
            "Epoch 8: 100%|██████████| 125/125 [00:05<00:00, 22.32it/s, loss: 0.0015]\n",
            "Epoch 9:  99%|█████████▉| 124/125 [00:05<00:00, 24.79it/s, loss: 0.0015]\n",
            "  0%|          | 0/125 [00:00<?, ?it/s]\u001b[A\n",
            "Epoch 9: 100%|██████████| 125/125 [00:05<00:00, 24.46it/s, loss: 0.0015]\n",
            "\n",
            "Epoch 10:   0%|          | 0/125 [00:00<?, ?it/s, loss: 0.0013]\u001b[A\n",
            "Epoch 10:   1%|          | 1/125 [00:00<00:10, 11.96it/s, loss: 0.0014]\u001b[A\n",
            "Epoch 10:   2%|▏         | 2/125 [00:00<00:07, 16.02it/s, loss: 0.0015]\u001b[A\n",
            "Epoch 10:   2%|▏         | 3/125 [00:00<00:05, 23.78it/s, loss: 0.0015]\u001b[A\n",
            "Epoch 10:   2%|▏         | 3/125 [00:00<00:05, 23.78it/s, loss: 0.0015]\u001b[A\n",
            "Epoch 10:   3%|▎         | 4/125 [00:00<00:05, 23.78it/s, loss: 0.0015]\u001b[A\n",
            "Epoch 10:   4%|▍         | 5/125 [00:00<00:05, 23.78it/s, loss: 0.0015]\u001b[A\n",
            "Epoch 10:   5%|▍         | 6/125 [00:00<00:05, 23.00it/s, loss: 0.0015]\u001b[A\n",
            "Epoch 10:   5%|▍         | 6/125 [00:00<00:05, 23.00it/s, loss: 0.0015]\u001b[A\n",
            "Epoch 10:   6%|▌         | 7/125 [00:00<00:05, 23.00it/s, loss: 0.0014]\u001b[A\n",
            "Epoch 10:   6%|▋         | 8/125 [00:00<00:05, 23.00it/s, loss: 0.0014]\u001b[A\n",
            "Epoch 10:   7%|▋         | 9/125 [00:00<00:05, 22.68it/s, loss: 0.0014]\u001b[A\n",
            "Epoch 10:   7%|▋         | 9/125 [00:00<00:05, 22.68it/s, loss: 0.0014]\u001b[A\n",
            "Epoch 10:   8%|▊         | 10/125 [00:00<00:05, 22.68it/s, loss: 0.0014]\u001b[A\n",
            "Epoch 10:   9%|▉         | 11/125 [00:00<00:05, 22.68it/s, loss: 0.0015]\u001b[A\n",
            "Epoch 10:  10%|▉         | 12/125 [00:00<00:04, 22.68it/s, loss: 0.0015]\u001b[A\n",
            "Epoch 10:  10%|▉         | 12/125 [00:00<00:04, 22.68it/s, loss: 0.0015]\u001b[A\n",
            "Epoch 10:  10%|█         | 13/125 [00:00<00:04, 22.68it/s, loss: 0.0015]\u001b[A\n",
            "Epoch 10:  11%|█         | 14/125 [00:00<00:04, 22.68it/s, loss: 0.0015]\u001b[A\n",
            "Epoch 10:  12%|█▏        | 15/125 [00:00<00:04, 22.40it/s, loss: 0.0015]\u001b[A\n",
            "Epoch 10:  12%|█▏        | 15/125 [00:00<00:04, 22.40it/s, loss: 0.0015]\u001b[A\n",
            "Epoch 10:  13%|█▎        | 16/125 [00:00<00:04, 22.40it/s, loss: 0.0015]\u001b[A\n",
            "Epoch 10:  14%|█▎        | 17/125 [00:00<00:04, 22.40it/s, loss: 0.0015]\u001b[A\n",
            "Epoch 10:  14%|█▍        | 18/125 [00:00<00:04, 22.73it/s, loss: 0.0015]\u001b[A\n",
            "Epoch 10:  14%|█▍        | 18/125 [00:00<00:04, 22.73it/s, loss: 0.0015]\u001b[A\n",
            "Epoch 10:  15%|█▌        | 19/125 [00:00<00:04, 22.73it/s, loss: 0.0015]\u001b[A\n",
            "Epoch 10:  16%|█▌        | 20/125 [00:00<00:04, 22.73it/s, loss: 0.0015]\u001b[A\n",
            "Epoch 10:  17%|█▋        | 21/125 [00:00<00:04, 22.92it/s, loss: 0.0015]\u001b[A\n",
            "Epoch 10:  17%|█▋        | 21/125 [00:00<00:04, 22.92it/s, loss: 0.0015]\u001b[A\n",
            "Epoch 10:  18%|█▊        | 22/125 [00:01<00:04, 22.92it/s, loss: 0.0015]\u001b[A\n",
            "Epoch 10:  18%|█▊        | 23/125 [00:01<00:04, 22.92it/s, loss: 0.0015]\u001b[A\n",
            "Epoch 10:  19%|█▉        | 24/125 [00:01<00:04, 23.13it/s, loss: 0.0015]\u001b[A\n",
            "Epoch 10:  19%|█▉        | 24/125 [00:01<00:04, 23.13it/s, loss: 0.0015]\u001b[A\n",
            "Epoch 10:  20%|██        | 25/125 [00:01<00:04, 23.13it/s, loss: 0.0015]\u001b[A\n",
            "Epoch 10:  21%|██        | 26/125 [00:01<00:04, 23.13it/s, loss: 0.0015]\u001b[A\n",
            "Epoch 10:  22%|██▏       | 27/125 [00:01<00:04, 23.17it/s, loss: 0.0015]\u001b[A\n",
            "Epoch 10:  22%|██▏       | 27/125 [00:01<00:04, 23.17it/s, loss: 0.0015]\u001b[A\n",
            "Epoch 10:  22%|██▏       | 28/125 [00:01<00:04, 23.17it/s, loss: 0.0015]\u001b[A\n",
            "Epoch 10:  23%|██▎       | 29/125 [00:01<00:04, 23.17it/s, loss: 0.0015]\u001b[A\n",
            "Epoch 10:  24%|██▍       | 30/125 [00:01<00:04, 22.73it/s, loss: 0.0015]\u001b[A\n",
            "Epoch 10:  24%|██▍       | 30/125 [00:01<00:04, 22.73it/s, loss: 0.0015]\u001b[A\n",
            "Epoch 10:  25%|██▍       | 31/125 [00:01<00:04, 22.73it/s, loss: 0.0015]\u001b[A\n",
            "Epoch 10:  26%|██▌       | 32/125 [00:01<00:04, 22.73it/s, loss: 0.0015]\u001b[A\n",
            "Epoch 10:  26%|██▋       | 33/125 [00:01<00:04, 22.25it/s, loss: 0.0015]\u001b[A\n",
            "Epoch 10:  26%|██▋       | 33/125 [00:01<00:04, 22.25it/s, loss: 0.0015]\u001b[A\n",
            "Epoch 10:  27%|██▋       | 34/125 [00:01<00:04, 22.25it/s, loss: 0.0015]\u001b[A\n",
            "Epoch 10:  28%|██▊       | 35/125 [00:01<00:04, 22.25it/s, loss: 0.0015]\u001b[A\n",
            "Epoch 10:  29%|██▉       | 36/125 [00:01<00:04, 22.11it/s, loss: 0.0015]\u001b[A\n",
            "Epoch 10:  29%|██▉       | 36/125 [00:01<00:04, 22.11it/s, loss: 0.0015]\u001b[A\n",
            "Epoch 10:  30%|██▉       | 37/125 [00:01<00:03, 22.11it/s, loss: 0.0015]\u001b[A\n",
            "Epoch 10:  30%|███       | 38/125 [00:01<00:03, 22.11it/s, loss: 0.0015]\u001b[A\n",
            "Epoch 10:  31%|███       | 39/125 [00:01<00:03, 22.18it/s, loss: 0.0015]\u001b[A\n",
            "Epoch 10:  31%|███       | 39/125 [00:01<00:03, 22.18it/s, loss: 0.0015]\u001b[A\n",
            "Epoch 10:  32%|███▏      | 40/125 [00:01<00:03, 22.18it/s, loss: 0.0015]\u001b[A\n",
            "Epoch 10:  33%|███▎      | 41/125 [00:01<00:03, 22.18it/s, loss: 0.0015]\u001b[A\n",
            "Epoch 10:  34%|███▎      | 42/125 [00:01<00:03, 22.29it/s, loss: 0.0015]\u001b[A\n",
            "Epoch 10:  34%|███▎      | 42/125 [00:01<00:03, 22.29it/s, loss: 0.0015]\u001b[A\n",
            "Epoch 10:  34%|███▍      | 43/125 [00:01<00:03, 22.29it/s, loss: 0.0015]\u001b[A\n",
            "Epoch 10:  35%|███▌      | 44/125 [00:01<00:03, 22.29it/s, loss: 0.0015]\u001b[A\n",
            "Epoch 10:  36%|███▌      | 45/125 [00:01<00:03, 22.57it/s, loss: 0.0015]\u001b[A\n",
            "Epoch 10:  36%|███▌      | 45/125 [00:02<00:03, 22.57it/s, loss: 0.0015]\u001b[A\n",
            "Epoch 10:  37%|███▋      | 46/125 [00:02<00:03, 22.57it/s, loss: 0.0015]\u001b[A\n",
            "Epoch 10:  38%|███▊      | 47/125 [00:02<00:03, 22.57it/s, loss: 0.0015]\u001b[A\n",
            "Epoch 10:  38%|███▊      | 48/125 [00:02<00:03, 22.64it/s, loss: 0.0015]\u001b[A\n",
            "Epoch 10:  38%|███▊      | 48/125 [00:02<00:03, 22.64it/s, loss: 0.0015]\u001b[A\n",
            "Epoch 10:  39%|███▉      | 49/125 [00:02<00:03, 22.64it/s, loss: 0.0015]\u001b[A\n",
            "Epoch 10:  40%|████      | 50/125 [00:02<00:03, 22.64it/s, loss: 0.0015]\u001b[A\n",
            "Epoch 10:  41%|████      | 51/125 [00:02<00:03, 22.84it/s, loss: 0.0015]\u001b[A\n",
            "Epoch 10:  41%|████      | 51/125 [00:02<00:03, 22.84it/s, loss: 0.0015]\u001b[A\n",
            "Epoch 10:  42%|████▏     | 52/125 [00:02<00:03, 22.84it/s, loss: 0.0015]\u001b[A\n",
            "Epoch 10:  42%|████▏     | 53/125 [00:02<00:03, 22.84it/s, loss: 0.0015]\u001b[A\n",
            "Epoch 10:  43%|████▎     | 54/125 [00:02<00:03, 23.19it/s, loss: 0.0015]\u001b[A\n",
            "Epoch 10:  43%|████▎     | 54/125 [00:02<00:03, 23.19it/s, loss: 0.0015]\u001b[A\n",
            "Epoch 10:  44%|████▍     | 55/125 [00:02<00:03, 23.19it/s, loss: 0.0015]\u001b[A\n",
            "Epoch 10:  45%|████▍     | 56/125 [00:02<00:02, 23.19it/s, loss: 0.0015]\u001b[A\n",
            "Epoch 10:  46%|████▌     | 57/125 [00:02<00:02, 23.34it/s, loss: 0.0015]\u001b[A\n",
            "Epoch 10:  46%|████▌     | 57/125 [00:02<00:02, 23.34it/s, loss: 0.0015]\u001b[A\n",
            "Epoch 10:  46%|████▋     | 58/125 [00:02<00:02, 23.34it/s, loss: 0.0015]\u001b[A\n",
            "Epoch 10:  47%|████▋     | 59/125 [00:02<00:02, 23.34it/s, loss: 0.0015]\u001b[A\n",
            "Epoch 10:  48%|████▊     | 60/125 [00:02<00:02, 23.31it/s, loss: 0.0015]\u001b[A\n",
            "Epoch 10:  48%|████▊     | 60/125 [00:02<00:02, 23.31it/s, loss: 0.0015]\u001b[A\n",
            "Epoch 10:  49%|████▉     | 61/125 [00:02<00:02, 23.31it/s, loss: 0.0015]\u001b[A\n",
            "Epoch 10:  50%|████▉     | 62/125 [00:02<00:02, 23.31it/s, loss: 0.0015]\u001b[A\n",
            "Epoch 10:  50%|█████     | 63/125 [00:02<00:02, 23.63it/s, loss: 0.0015]\u001b[A\n",
            "Epoch 10:  50%|█████     | 63/125 [00:02<00:02, 23.63it/s, loss: 0.0015]\u001b[A\n",
            "Epoch 10:  51%|█████     | 64/125 [00:02<00:02, 23.63it/s, loss: 0.0015]\u001b[A\n",
            "Epoch 10:  52%|█████▏    | 65/125 [00:02<00:02, 23.63it/s, loss: 0.0015]\u001b[A\n",
            "Epoch 10:  53%|█████▎    | 66/125 [00:02<00:02, 23.78it/s, loss: 0.0015]\u001b[A\n",
            "Epoch 10:  53%|█████▎    | 66/125 [00:02<00:02, 23.78it/s, loss: 0.0015]\u001b[A\n",
            "Epoch 10:  54%|█████▎    | 67/125 [00:02<00:02, 23.78it/s, loss: 0.0015]\u001b[A\n",
            "Epoch 10:  54%|█████▍    | 68/125 [00:03<00:02, 23.78it/s, loss: 0.0015]\u001b[A\n",
            "Epoch 10:  55%|█████▌    | 69/125 [00:03<00:02, 23.87it/s, loss: 0.0015]\u001b[A\n",
            "Epoch 10:  55%|█████▌    | 69/125 [00:03<00:02, 23.87it/s, loss: 0.0015]\u001b[A\n",
            "Epoch 10:  56%|█████▌    | 70/125 [00:03<00:02, 23.87it/s, loss: 0.0015]\u001b[A\n",
            "Epoch 10:  57%|█████▋    | 71/125 [00:03<00:02, 23.87it/s, loss: 0.0015]\u001b[A\n",
            "Epoch 10:  58%|█████▊    | 72/125 [00:03<00:02, 23.35it/s, loss: 0.0015]\u001b[A\n",
            "Epoch 10:  58%|█████▊    | 72/125 [00:03<00:02, 23.35it/s, loss: 0.0015]\u001b[A\n",
            "Epoch 10:  58%|█████▊    | 73/125 [00:03<00:02, 23.35it/s, loss: 0.0015]\u001b[A\n",
            "Epoch 10:  59%|█████▉    | 74/125 [00:03<00:02, 23.35it/s, loss: 0.0015]\u001b[A\n",
            "Epoch 10:  60%|██████    | 75/125 [00:03<00:02, 22.96it/s, loss: 0.0015]\u001b[A\n",
            "Epoch 10:  60%|██████    | 75/125 [00:03<00:02, 22.96it/s, loss: 0.0015]\u001b[A\n",
            "Epoch 10:  61%|██████    | 76/125 [00:03<00:02, 22.96it/s, loss: 0.0015]\u001b[A\n",
            "Epoch 10:  62%|██████▏   | 77/125 [00:03<00:02, 22.96it/s, loss: 0.0015]\u001b[A\n",
            "Epoch 10:  62%|██████▏   | 78/125 [00:03<00:02, 22.36it/s, loss: 0.0015]\u001b[A\n",
            "Epoch 10:  62%|██████▏   | 78/125 [00:03<00:02, 22.36it/s, loss: 0.0015]\u001b[A\n",
            "Epoch 10:  63%|██████▎   | 79/125 [00:03<00:02, 22.36it/s, loss: 0.0015]\u001b[A\n",
            "Epoch 10:  64%|██████▍   | 80/125 [00:03<00:02, 22.36it/s, loss: 0.0015]\u001b[A\n",
            "Epoch 10:  65%|██████▍   | 81/125 [00:03<00:02, 21.74it/s, loss: 0.0015]\u001b[A\n",
            "Epoch 10:  65%|██████▍   | 81/125 [00:03<00:02, 21.74it/s, loss: 0.0015]\u001b[A\n",
            "Epoch 10:  66%|██████▌   | 82/125 [00:03<00:01, 21.74it/s, loss: 0.0015]\u001b[A\n",
            "Epoch 10:  66%|██████▋   | 83/125 [00:03<00:01, 21.74it/s, loss: 0.0015]\u001b[A\n",
            "Epoch 10:  67%|██████▋   | 84/125 [00:03<00:01, 21.68it/s, loss: 0.0015]\u001b[A\n",
            "Epoch 10:  67%|██████▋   | 84/125 [00:03<00:01, 21.68it/s, loss: 0.0015]\u001b[A\n",
            "Epoch 10:  68%|██████▊   | 85/125 [00:03<00:01, 21.68it/s, loss: 0.0015]\u001b[A\n",
            "Epoch 10:  69%|██████▉   | 86/125 [00:03<00:01, 21.68it/s, loss: 0.0015]\u001b[A\n",
            "Epoch 10:  70%|██████▉   | 87/125 [00:03<00:01, 21.68it/s, loss: 0.0015]\u001b[A\n",
            "Epoch 10:  70%|██████▉   | 87/125 [00:03<00:01, 21.68it/s, loss: 0.0015]\u001b[A\n",
            "Epoch 10:  70%|███████   | 88/125 [00:03<00:01, 21.68it/s, loss: 0.0015]\u001b[A\n",
            "Epoch 10:  71%|███████   | 89/125 [00:03<00:01, 21.68it/s, loss: 0.0015]\u001b[A\n",
            "Epoch 10:  72%|███████▏  | 90/125 [00:03<00:01, 21.70it/s, loss: 0.0015]\u001b[A\n",
            "Epoch 10:  72%|███████▏  | 90/125 [00:04<00:01, 21.70it/s, loss: 0.0015]\u001b[A\n",
            "Epoch 10:  73%|███████▎  | 91/125 [00:04<00:01, 21.70it/s, loss: 0.0015]\u001b[A\n",
            "Epoch 10:  74%|███████▎  | 92/125 [00:04<00:01, 21.70it/s, loss: 0.0015]\u001b[A\n",
            "Epoch 10:  74%|███████▍  | 93/125 [00:04<00:01, 21.74it/s, loss: 0.0015]\u001b[A\n",
            "Epoch 10:  74%|███████▍  | 93/125 [00:04<00:01, 21.74it/s, loss: 0.0015]\u001b[A\n",
            "Epoch 10:  75%|███████▌  | 94/125 [00:04<00:01, 21.74it/s, loss: 0.0015]\u001b[A\n",
            "Epoch 10:  76%|███████▌  | 95/125 [00:04<00:01, 21.74it/s, loss: 0.0015]\u001b[A\n",
            "Epoch 10:  77%|███████▋  | 96/125 [00:04<00:01, 21.72it/s, loss: 0.0015]\u001b[A\n",
            "Epoch 10:  77%|███████▋  | 96/125 [00:04<00:01, 21.72it/s, loss: 0.0015]\u001b[A\n",
            "Epoch 10:  78%|███████▊  | 97/125 [00:04<00:01, 21.72it/s, loss: 0.0015]\u001b[A\n",
            "Epoch 10:  78%|███████▊  | 98/125 [00:04<00:01, 21.72it/s, loss: 0.0015]\u001b[A\n",
            "Epoch 10:  79%|███████▉  | 99/125 [00:04<00:01, 21.91it/s, loss: 0.0015]\u001b[A\n",
            "Epoch 10:  79%|███████▉  | 99/125 [00:04<00:01, 21.91it/s, loss: 0.0015]\u001b[A\n",
            "Epoch 10:  80%|████████  | 100/125 [00:04<00:01, 21.91it/s, loss: 0.0015]\u001b[A\n",
            "Epoch 10:  81%|████████  | 101/125 [00:04<00:01, 21.91it/s, loss: 0.0015]\u001b[A\n",
            "Epoch 10:  82%|████████▏ | 102/125 [00:04<00:01, 21.90it/s, loss: 0.0015]\u001b[A\n",
            "Epoch 10:  82%|████████▏ | 102/125 [00:04<00:01, 21.90it/s, loss: 0.0015]\u001b[A\n",
            "Epoch 10:  82%|████████▏ | 103/125 [00:04<00:01, 21.90it/s, loss: 0.0015]\u001b[A\n",
            "Epoch 10:  83%|████████▎ | 104/125 [00:04<00:00, 21.90it/s, loss: 0.0015]\u001b[A\n",
            "Epoch 10:  84%|████████▍ | 105/125 [00:04<00:00, 21.49it/s, loss: 0.0015]\u001b[A\n",
            "Epoch 10:  84%|████████▍ | 105/125 [00:04<00:00, 21.49it/s, loss: 0.0015]\u001b[A\n",
            "Epoch 10:  85%|████████▍ | 106/125 [00:04<00:00, 21.49it/s, loss: 0.0015]\u001b[A\n",
            "Epoch 10:  86%|████████▌ | 107/125 [00:04<00:00, 21.49it/s, loss: 0.0015]\u001b[A\n",
            "Epoch 10:  86%|████████▋ | 108/125 [00:04<00:00, 21.59it/s, loss: 0.0015]\u001b[A\n",
            "Epoch 10:  86%|████████▋ | 108/125 [00:04<00:00, 21.59it/s, loss: 0.0015]\u001b[A\n",
            "Epoch 10:  87%|████████▋ | 109/125 [00:04<00:00, 21.59it/s, loss: 0.0015]\u001b[A\n",
            "Epoch 10:  88%|████████▊ | 110/125 [00:04<00:00, 21.59it/s, loss: 0.0015]\u001b[A\n",
            "Epoch 10:  89%|████████▉ | 111/125 [00:04<00:00, 21.62it/s, loss: 0.0015]\u001b[A\n",
            "Epoch 10:  89%|████████▉ | 111/125 [00:04<00:00, 21.62it/s, loss: 0.0015]\u001b[A\n",
            "Epoch 10:  90%|████████▉ | 112/125 [00:05<00:00, 21.62it/s, loss: 0.0015]\u001b[A\n",
            "Epoch 10:  90%|█████████ | 113/125 [00:05<00:00, 21.62it/s, loss: 0.0015]\u001b[A\n",
            "Epoch 10:  91%|█████████ | 114/125 [00:05<00:00, 21.81it/s, loss: 0.0015]\u001b[A\n",
            "Epoch 10:  91%|█████████ | 114/125 [00:05<00:00, 21.81it/s, loss: 0.0015]\u001b[A\n",
            "Epoch 10:  92%|█████████▏| 115/125 [00:05<00:00, 21.81it/s, loss: 0.0015]\u001b[A\n",
            "Epoch 10:  93%|█████████▎| 116/125 [00:05<00:00, 21.81it/s, loss: 0.0015]\u001b[A\n",
            "Epoch 10:  94%|█████████▎| 117/125 [00:05<00:00, 21.99it/s, loss: 0.0015]\u001b[A\n",
            "Epoch 10:  94%|█████████▎| 117/125 [00:05<00:00, 21.99it/s, loss: 0.0015]\u001b[A\n",
            "Epoch 10:  94%|█████████▍| 118/125 [00:05<00:00, 21.99it/s, loss: 0.0015]\u001b[A\n",
            "Epoch 10:  95%|█████████▌| 119/125 [00:05<00:00, 21.99it/s, loss: 0.0015]\u001b[A\n",
            "Epoch 10:  96%|█████████▌| 120/125 [00:05<00:00, 22.19it/s, loss: 0.0015]\u001b[A\n",
            "Epoch 10:  96%|█████████▌| 120/125 [00:05<00:00, 22.19it/s, loss: 0.0015]\u001b[A\n",
            "Epoch 10:  97%|█████████▋| 121/125 [00:05<00:00, 22.19it/s, loss: 0.0015]\u001b[A\n",
            "Epoch 10:  98%|█████████▊| 122/125 [00:05<00:00, 22.19it/s, loss: 0.0015]\u001b[A\n",
            "Epoch 10:  98%|█████████▊| 123/125 [00:05<00:00, 21.86it/s, loss: 0.0015]\u001b[A\n",
            "Epoch 10:  98%|█████████▊| 123/125 [00:05<00:00, 21.86it/s, loss: 0.0015]\u001b[A\n",
            "Epoch 10:  99%|█████████▉| 124/125 [00:05<00:00, 21.86it/s, loss: 0.0015]\u001b[A"
          ]
        }
      ]
    },
    {
      "cell_type": "markdown",
      "metadata": {
        "id": "R3PZHGkM3sot"
      },
      "source": [
        "# Model Evaluation\n",
        "## Get test slice"
      ]
    },
    {
      "cell_type": "code",
      "metadata": {
        "colab": {
          "base_uri": "https://localhost:8080/",
          "height": 453
        },
        "id": "i4xteTgKwKRY",
        "outputId": "eaa5de2a-1ede-4aa1-bf16-349945103447"
      },
      "source": [
        "image_name_raw_test = os.path.join('./srcnn/Copy of ADNI_005_S_0929_MR_MPR__GradWarp__B1_Correction__N3__Scaled_Br_20070923124929945_S19669_I74609.nii')\n",
        "image_test = preprocessing(image_name_raw_test)\n",
        "hr_test_slice = image_test[120]\n",
        "lr_test_slice = get_lr(hr_test_slice)\n",
        "plt.imshow(lr_test_slice, cmap='gray')"
      ],
      "execution_count": null,
      "outputs": [
        {
          "output_type": "execute_result",
          "data": {
            "text/plain": [
              "<matplotlib.image.AxesImage at 0x79d6cc3c0a50>"
            ]
          },
          "metadata": {},
          "execution_count": 48
        },
        {
          "output_type": "display_data",
          "data": {
            "text/plain": [
              "<Figure size 640x480 with 1 Axes>"
            ],
            "image/png": "[encoded data removed]"
          },
          "metadata": {}
        }
      ]
    },
    {
      "cell_type": "markdown",
      "metadata": {
        "id": "Vcl0C52z3381"
      },
      "source": [
        "## Predict slice"
      ]
    },
    {
      "cell_type": "code",
      "metadata": {
        "colab": {
          "base_uri": "https://localhost:8080/",
          "height": 470
        },
        "id": "o7jpQ9YIyVDn",
        "outputId": "19752964-521f-46d5-eac4-b3d3e0437acd"
      },
      "source": [
        "model.eval()\n",
        "image_test_tensor = ToTensor()(lr_test_slice)\n",
        "image_test_tensor = torch.unsqueeze(image_test_tensor, 0)\n",
        "image_test_tensor = image_test_tensor.to(device)\n",
        "print(image_test_tensor.shape)\n",
        "output = model(image_test_tensor)\n",
        "\n",
        "output_test_slice = output.detach().cpu().numpy()[0, 0]\n",
        "\n",
        "plt.imshow(output_test_slice, cmap='gray')"
      ],
      "execution_count": null,
      "outputs": [
        {
          "output_type": "stream",
          "name": "stdout",
          "text": [
            "torch.Size([1, 1, 255, 165])\n"
          ]
        },
        {
          "output_type": "execute_result",
          "data": {
            "text/plain": [
              "<matplotlib.image.AxesImage at 0x79d6cc12ef90>"
            ]
          },
          "metadata": {},
          "execution_count": 44
        },
        {
          "output_type": "display_data",
          "data": {
            "text/plain": [
              "<Figure size 640x480 with 1 Axes>"
            ],
            "image/png": "[encoded data removed]"
          },
          "metadata": {}
        }
      ]
    },
    {
      "cell_type": "markdown",
      "metadata": {
        "id": "NERn6Ptt38zu"
      },
      "source": [
        "## Evaluate with metrics"
      ]
    },
    {
      "cell_type": "code",
      "metadata": {
        "colab": {
          "base_uri": "https://localhost:8080/"
        },
        "id": "ujiG0e_jzPdn",
        "outputId": "ea05dcba-002a-4e83-894d-ed474e12b086"
      },
      "source": [
        "print(peak_signal_noise_ratio(hr_test_slice, lr_test_slice), '\\t', structural_similarity(hr_test_slice, lr_test_slice, data_range=hr_test_slice.max() - hr_test_slice.min())) # Added data_range parameter\n",
        "print(peak_signal_noise_ratio(hr_test_slice, output_test_slice), '\\t', structural_similarity(hr_test_slice, output_test_slice, data_range=hr_test_slice.max() - hr_test_slice.min())) # Added data_range parameter"
      ],
      "execution_count": null,
      "outputs": [
        {
          "output_type": "stream",
          "name": "stdout",
          "text": [
            "26.598454429320284 \t 0.8395458637506066\n",
            "28.779584600501277 \t 0.9009123571853702\n"
          ]
        }
      ]
    }
  ]
}